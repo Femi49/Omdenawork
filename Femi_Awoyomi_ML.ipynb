{
 "cells": [
  {
   "cell_type": "markdown",
   "id": "e13fb43e",
   "metadata": {},
   "source": [
    "### FRUIT DATASET"
   ]
  },
  {
   "cell_type": "markdown",
   "id": "43079cb2",
   "metadata": {},
   "source": [
    "#### We have 7 features/columns in the dataset"
   ]
  },
  {
   "cell_type": "markdown",
   "id": "eb3f8ff4",
   "metadata": {},
   "source": [
    "    Fruit_label\n",
    "    Fruit_name\n",
    "    Fruit_subtype\n",
    "    Mass\n",
    "    Width\n",
    "    Height\n",
    "    Color_score"
   ]
  },
  {
   "cell_type": "markdown",
   "id": "6b7ad2eb",
   "metadata": {},
   "source": [
    "#### Problem Question"
   ]
  },
  {
   "cell_type": "markdown",
   "id": "a79c1a96",
   "metadata": {},
   "source": [
    "The problem this machine learning algorithm seeks to solve is to be able to classify and identify different types of fruits"
   ]
  },
  {
   "cell_type": "code",
   "execution_count": 1,
   "id": "70959b6d",
   "metadata": {},
   "outputs": [],
   "source": [
    "#import libraries\n",
    "import pandas as pd\n",
    "import numpy as np\n",
    "import matplotlib.pyplot as plt\n",
    "import seaborn as sns\n",
    "from sklearn.model_selection import train_test_split\n",
    "from sklearn.model_selection import cross_val_score\n",
    "from sklearn.preprocessing import MinMaxScaler\n",
    "from sklearn.metrics import confusion_matrix, classification_report"
   ]
  },
  {
   "cell_type": "code",
   "execution_count": 2,
   "id": "e66dc4a1",
   "metadata": {},
   "outputs": [
    {
     "data": {
      "text/html": [
       "<div>\n",
       "<style scoped>\n",
       "    .dataframe tbody tr th:only-of-type {\n",
       "        vertical-align: middle;\n",
       "    }\n",
       "\n",
       "    .dataframe tbody tr th {\n",
       "        vertical-align: top;\n",
       "    }\n",
       "\n",
       "    .dataframe thead th {\n",
       "        text-align: right;\n",
       "    }\n",
       "</style>\n",
       "<table border=\"1\" class=\"dataframe\">\n",
       "  <thead>\n",
       "    <tr style=\"text-align: right;\">\n",
       "      <th></th>\n",
       "      <th>fruit_label</th>\n",
       "      <th>fruit_name</th>\n",
       "      <th>fruit_subtype</th>\n",
       "      <th>mass</th>\n",
       "      <th>width</th>\n",
       "      <th>height</th>\n",
       "      <th>color_score</th>\n",
       "    </tr>\n",
       "  </thead>\n",
       "  <tbody>\n",
       "    <tr>\n",
       "      <th>0</th>\n",
       "      <td>1</td>\n",
       "      <td>apple</td>\n",
       "      <td>granny_smith</td>\n",
       "      <td>192</td>\n",
       "      <td>8.4</td>\n",
       "      <td>7.3</td>\n",
       "      <td>0.55</td>\n",
       "    </tr>\n",
       "    <tr>\n",
       "      <th>1</th>\n",
       "      <td>1</td>\n",
       "      <td>apple</td>\n",
       "      <td>granny_smith</td>\n",
       "      <td>180</td>\n",
       "      <td>8.0</td>\n",
       "      <td>6.8</td>\n",
       "      <td>0.59</td>\n",
       "    </tr>\n",
       "    <tr>\n",
       "      <th>2</th>\n",
       "      <td>1</td>\n",
       "      <td>apple</td>\n",
       "      <td>granny_smith</td>\n",
       "      <td>176</td>\n",
       "      <td>7.4</td>\n",
       "      <td>7.2</td>\n",
       "      <td>0.60</td>\n",
       "    </tr>\n",
       "    <tr>\n",
       "      <th>3</th>\n",
       "      <td>2</td>\n",
       "      <td>mandarin</td>\n",
       "      <td>mandarin</td>\n",
       "      <td>86</td>\n",
       "      <td>6.2</td>\n",
       "      <td>4.7</td>\n",
       "      <td>0.80</td>\n",
       "    </tr>\n",
       "    <tr>\n",
       "      <th>4</th>\n",
       "      <td>2</td>\n",
       "      <td>mandarin</td>\n",
       "      <td>mandarin</td>\n",
       "      <td>84</td>\n",
       "      <td>6.0</td>\n",
       "      <td>4.6</td>\n",
       "      <td>0.79</td>\n",
       "    </tr>\n",
       "  </tbody>\n",
       "</table>\n",
       "</div>"
      ],
      "text/plain": [
       "   fruit_label fruit_name fruit_subtype  mass  width  height  color_score\n",
       "0            1      apple  granny_smith   192    8.4     7.3         0.55\n",
       "1            1      apple  granny_smith   180    8.0     6.8         0.59\n",
       "2            1      apple  granny_smith   176    7.4     7.2         0.60\n",
       "3            2   mandarin      mandarin    86    6.2     4.7         0.80\n",
       "4            2   mandarin      mandarin    84    6.0     4.6         0.79"
      ]
     },
     "execution_count": 2,
     "metadata": {},
     "output_type": "execute_result"
    }
   ],
   "source": [
    "#load the dataset\n",
    "pd.options.display.max_columns = 1000\n",
    "data = pd.read_csv('fruit_data.csv')\n",
    "data.head(5)"
   ]
  },
  {
   "cell_type": "code",
   "execution_count": 3,
   "id": "a87f4176",
   "metadata": {},
   "outputs": [
    {
     "name": "stdout",
     "output_type": "stream",
     "text": [
      "Ths shape of the dataset is  (59, 7)\n"
     ]
    }
   ],
   "source": [
    "d_shape = data.shape\n",
    "print('Ths shape of the dataset is ', d_shape)"
   ]
  },
  {
   "cell_type": "code",
   "execution_count": 4,
   "id": "410c2ce5",
   "metadata": {},
   "outputs": [
    {
     "name": "stdout",
     "output_type": "stream",
     "text": [
      "<class 'pandas.core.frame.DataFrame'>\n",
      "RangeIndex: 59 entries, 0 to 58\n",
      "Data columns (total 7 columns):\n",
      " #   Column         Non-Null Count  Dtype  \n",
      "---  ------         --------------  -----  \n",
      " 0   fruit_label    59 non-null     int64  \n",
      " 1   fruit_name     59 non-null     object \n",
      " 2   fruit_subtype  59 non-null     object \n",
      " 3   mass           59 non-null     int64  \n",
      " 4   width          59 non-null     float64\n",
      " 5   height         59 non-null     float64\n",
      " 6   color_score    59 non-null     float64\n",
      "dtypes: float64(3), int64(2), object(2)\n",
      "memory usage: 3.4+ KB\n"
     ]
    }
   ],
   "source": [
    "data.info()"
   ]
  },
  {
   "cell_type": "code",
   "execution_count": 5,
   "id": "2c8962d4",
   "metadata": {},
   "outputs": [
    {
     "data": {
      "text/html": [
       "<div>\n",
       "<style scoped>\n",
       "    .dataframe tbody tr th:only-of-type {\n",
       "        vertical-align: middle;\n",
       "    }\n",
       "\n",
       "    .dataframe tbody tr th {\n",
       "        vertical-align: top;\n",
       "    }\n",
       "\n",
       "    .dataframe thead th {\n",
       "        text-align: right;\n",
       "    }\n",
       "</style>\n",
       "<table border=\"1\" class=\"dataframe\">\n",
       "  <thead>\n",
       "    <tr style=\"text-align: right;\">\n",
       "      <th></th>\n",
       "      <th>fruit_label</th>\n",
       "      <th>mass</th>\n",
       "      <th>width</th>\n",
       "      <th>height</th>\n",
       "      <th>color_score</th>\n",
       "    </tr>\n",
       "  </thead>\n",
       "  <tbody>\n",
       "    <tr>\n",
       "      <th>count</th>\n",
       "      <td>59.000000</td>\n",
       "      <td>59.000000</td>\n",
       "      <td>59.000000</td>\n",
       "      <td>59.000000</td>\n",
       "      <td>59.000000</td>\n",
       "    </tr>\n",
       "    <tr>\n",
       "      <th>mean</th>\n",
       "      <td>2.542373</td>\n",
       "      <td>163.118644</td>\n",
       "      <td>7.105085</td>\n",
       "      <td>7.693220</td>\n",
       "      <td>0.762881</td>\n",
       "    </tr>\n",
       "    <tr>\n",
       "      <th>std</th>\n",
       "      <td>1.208048</td>\n",
       "      <td>55.018832</td>\n",
       "      <td>0.816938</td>\n",
       "      <td>1.361017</td>\n",
       "      <td>0.076857</td>\n",
       "    </tr>\n",
       "    <tr>\n",
       "      <th>min</th>\n",
       "      <td>1.000000</td>\n",
       "      <td>76.000000</td>\n",
       "      <td>5.800000</td>\n",
       "      <td>4.000000</td>\n",
       "      <td>0.550000</td>\n",
       "    </tr>\n",
       "    <tr>\n",
       "      <th>25%</th>\n",
       "      <td>1.000000</td>\n",
       "      <td>140.000000</td>\n",
       "      <td>6.600000</td>\n",
       "      <td>7.200000</td>\n",
       "      <td>0.720000</td>\n",
       "    </tr>\n",
       "    <tr>\n",
       "      <th>50%</th>\n",
       "      <td>3.000000</td>\n",
       "      <td>158.000000</td>\n",
       "      <td>7.200000</td>\n",
       "      <td>7.600000</td>\n",
       "      <td>0.750000</td>\n",
       "    </tr>\n",
       "    <tr>\n",
       "      <th>75%</th>\n",
       "      <td>4.000000</td>\n",
       "      <td>177.000000</td>\n",
       "      <td>7.500000</td>\n",
       "      <td>8.200000</td>\n",
       "      <td>0.810000</td>\n",
       "    </tr>\n",
       "    <tr>\n",
       "      <th>max</th>\n",
       "      <td>4.000000</td>\n",
       "      <td>362.000000</td>\n",
       "      <td>9.600000</td>\n",
       "      <td>10.500000</td>\n",
       "      <td>0.930000</td>\n",
       "    </tr>\n",
       "  </tbody>\n",
       "</table>\n",
       "</div>"
      ],
      "text/plain": [
       "       fruit_label        mass      width     height  color_score\n",
       "count    59.000000   59.000000  59.000000  59.000000    59.000000\n",
       "mean      2.542373  163.118644   7.105085   7.693220     0.762881\n",
       "std       1.208048   55.018832   0.816938   1.361017     0.076857\n",
       "min       1.000000   76.000000   5.800000   4.000000     0.550000\n",
       "25%       1.000000  140.000000   6.600000   7.200000     0.720000\n",
       "50%       3.000000  158.000000   7.200000   7.600000     0.750000\n",
       "75%       4.000000  177.000000   7.500000   8.200000     0.810000\n",
       "max       4.000000  362.000000   9.600000  10.500000     0.930000"
      ]
     },
     "execution_count": 5,
     "metadata": {},
     "output_type": "execute_result"
    }
   ],
   "source": [
    "data.describe()"
   ]
  },
  {
   "cell_type": "code",
   "execution_count": 6,
   "id": "6d0bf8e8",
   "metadata": {},
   "outputs": [
    {
     "data": {
      "text/plain": [
       "fruit_label      0\n",
       "fruit_name       0\n",
       "fruit_subtype    0\n",
       "mass             0\n",
       "width            0\n",
       "height           0\n",
       "color_score      0\n",
       "dtype: int64"
      ]
     },
     "execution_count": 6,
     "metadata": {},
     "output_type": "execute_result"
    }
   ],
   "source": [
    "data.isnull().sum()"
   ]
  },
  {
   "cell_type": "code",
   "execution_count": 7,
   "id": "d7cda705",
   "metadata": {},
   "outputs": [
    {
     "data": {
      "text/plain": [
       "0"
      ]
     },
     "execution_count": 7,
     "metadata": {},
     "output_type": "execute_result"
    }
   ],
   "source": [
    "data.duplicated().sum()"
   ]
  },
  {
   "cell_type": "code",
   "execution_count": 8,
   "id": "4edc40b3",
   "metadata": {},
   "outputs": [
    {
     "data": {
      "text/html": [
       "<div>\n",
       "<style scoped>\n",
       "    .dataframe tbody tr th:only-of-type {\n",
       "        vertical-align: middle;\n",
       "    }\n",
       "\n",
       "    .dataframe tbody tr th {\n",
       "        vertical-align: top;\n",
       "    }\n",
       "\n",
       "    .dataframe thead th {\n",
       "        text-align: right;\n",
       "    }\n",
       "</style>\n",
       "<table border=\"1\" class=\"dataframe\">\n",
       "  <thead>\n",
       "    <tr style=\"text-align: right;\">\n",
       "      <th></th>\n",
       "      <th>fruit_label</th>\n",
       "      <th>mass</th>\n",
       "      <th>width</th>\n",
       "      <th>height</th>\n",
       "      <th>color_score</th>\n",
       "    </tr>\n",
       "  </thead>\n",
       "  <tbody>\n",
       "    <tr>\n",
       "      <th>count</th>\n",
       "      <td>59.000000</td>\n",
       "      <td>59.000000</td>\n",
       "      <td>59.000000</td>\n",
       "      <td>59.000000</td>\n",
       "      <td>59.000000</td>\n",
       "    </tr>\n",
       "    <tr>\n",
       "      <th>mean</th>\n",
       "      <td>2.542373</td>\n",
       "      <td>163.118644</td>\n",
       "      <td>7.105085</td>\n",
       "      <td>7.693220</td>\n",
       "      <td>0.762881</td>\n",
       "    </tr>\n",
       "    <tr>\n",
       "      <th>std</th>\n",
       "      <td>1.208048</td>\n",
       "      <td>55.018832</td>\n",
       "      <td>0.816938</td>\n",
       "      <td>1.361017</td>\n",
       "      <td>0.076857</td>\n",
       "    </tr>\n",
       "    <tr>\n",
       "      <th>min</th>\n",
       "      <td>1.000000</td>\n",
       "      <td>76.000000</td>\n",
       "      <td>5.800000</td>\n",
       "      <td>4.000000</td>\n",
       "      <td>0.550000</td>\n",
       "    </tr>\n",
       "    <tr>\n",
       "      <th>25%</th>\n",
       "      <td>1.000000</td>\n",
       "      <td>140.000000</td>\n",
       "      <td>6.600000</td>\n",
       "      <td>7.200000</td>\n",
       "      <td>0.720000</td>\n",
       "    </tr>\n",
       "    <tr>\n",
       "      <th>50%</th>\n",
       "      <td>3.000000</td>\n",
       "      <td>158.000000</td>\n",
       "      <td>7.200000</td>\n",
       "      <td>7.600000</td>\n",
       "      <td>0.750000</td>\n",
       "    </tr>\n",
       "    <tr>\n",
       "      <th>75%</th>\n",
       "      <td>4.000000</td>\n",
       "      <td>177.000000</td>\n",
       "      <td>7.500000</td>\n",
       "      <td>8.200000</td>\n",
       "      <td>0.810000</td>\n",
       "    </tr>\n",
       "    <tr>\n",
       "      <th>max</th>\n",
       "      <td>4.000000</td>\n",
       "      <td>362.000000</td>\n",
       "      <td>9.600000</td>\n",
       "      <td>10.500000</td>\n",
       "      <td>0.930000</td>\n",
       "    </tr>\n",
       "  </tbody>\n",
       "</table>\n",
       "</div>"
      ],
      "text/plain": [
       "       fruit_label        mass      width     height  color_score\n",
       "count    59.000000   59.000000  59.000000  59.000000    59.000000\n",
       "mean      2.542373  163.118644   7.105085   7.693220     0.762881\n",
       "std       1.208048   55.018832   0.816938   1.361017     0.076857\n",
       "min       1.000000   76.000000   5.800000   4.000000     0.550000\n",
       "25%       1.000000  140.000000   6.600000   7.200000     0.720000\n",
       "50%       3.000000  158.000000   7.200000   7.600000     0.750000\n",
       "75%       4.000000  177.000000   7.500000   8.200000     0.810000\n",
       "max       4.000000  362.000000   9.600000  10.500000     0.930000"
      ]
     },
     "execution_count": 8,
     "metadata": {},
     "output_type": "execute_result"
    }
   ],
   "source": [
    "data.describe()"
   ]
  },
  {
   "cell_type": "code",
   "execution_count": 9,
   "id": "d38ee420",
   "metadata": {},
   "outputs": [
    {
     "data": {
      "text/plain": [
       "apple       19\n",
       "orange      19\n",
       "lemon       16\n",
       "mandarin     5\n",
       "Name: fruit_name, dtype: int64"
      ]
     },
     "execution_count": 9,
     "metadata": {},
     "output_type": "execute_result"
    }
   ],
   "source": [
    "data['fruit_name'].value_counts()"
   ]
  },
  {
   "cell_type": "code",
   "execution_count": 10,
   "id": "1ae6d1a8",
   "metadata": {},
   "outputs": [
    {
     "data": {
      "image/png": "[encoded data removed]",
      "text/plain": [
       "<Figure size 432x288 with 1 Axes>"
      ]
     },
     "metadata": {
      "needs_background": "light"
     },
     "output_type": "display_data"
    }
   ],
   "source": [
    "x = data['fruit_name'].value_counts().keys().tolist()\n",
    "y = data['fruit_name'].value_counts().tolist()\n",
    "color = ['red', 'green', 'maroon', 'blue']\n",
    "plt.bar(x, y, color = color)\n",
    "plt.title('distribution of fruits')\n",
    "plt.xlabel('fruit_names')\n",
    "plt.ylabel('Counts')\n",
    "plt.show()"
   ]
  },
  {
   "cell_type": "code",
   "execution_count": 11,
   "id": "8ac5649c",
   "metadata": {},
   "outputs": [
    {
     "data": {
      "text/html": [
       "<div>\n",
       "<style scoped>\n",
       "    .dataframe tbody tr th:only-of-type {\n",
       "        vertical-align: middle;\n",
       "    }\n",
       "\n",
       "    .dataframe tbody tr th {\n",
       "        vertical-align: top;\n",
       "    }\n",
       "\n",
       "    .dataframe thead th {\n",
       "        text-align: right;\n",
       "    }\n",
       "</style>\n",
       "<table border=\"1\" class=\"dataframe\">\n",
       "  <thead>\n",
       "    <tr style=\"text-align: right;\">\n",
       "      <th></th>\n",
       "      <th>fruit_label</th>\n",
       "      <th>mass</th>\n",
       "      <th>width</th>\n",
       "      <th>height</th>\n",
       "      <th>color_score</th>\n",
       "    </tr>\n",
       "  </thead>\n",
       "  <tbody>\n",
       "    <tr>\n",
       "      <th>fruit_label</th>\n",
       "      <td>1.000000</td>\n",
       "      <td>0.032738</td>\n",
       "      <td>-0.298090</td>\n",
       "      <td>0.508766</td>\n",
       "      <td>-0.310521</td>\n",
       "    </tr>\n",
       "    <tr>\n",
       "      <th>mass</th>\n",
       "      <td>0.032738</td>\n",
       "      <td>1.000000</td>\n",
       "      <td>0.877687</td>\n",
       "      <td>0.609571</td>\n",
       "      <td>-0.079794</td>\n",
       "    </tr>\n",
       "    <tr>\n",
       "      <th>width</th>\n",
       "      <td>-0.298090</td>\n",
       "      <td>0.877687</td>\n",
       "      <td>1.000000</td>\n",
       "      <td>0.396848</td>\n",
       "      <td>-0.076576</td>\n",
       "    </tr>\n",
       "    <tr>\n",
       "      <th>height</th>\n",
       "      <td>0.508766</td>\n",
       "      <td>0.609571</td>\n",
       "      <td>0.396848</td>\n",
       "      <td>1.000000</td>\n",
       "      <td>-0.247047</td>\n",
       "    </tr>\n",
       "    <tr>\n",
       "      <th>color_score</th>\n",
       "      <td>-0.310521</td>\n",
       "      <td>-0.079794</td>\n",
       "      <td>-0.076576</td>\n",
       "      <td>-0.247047</td>\n",
       "      <td>1.000000</td>\n",
       "    </tr>\n",
       "  </tbody>\n",
       "</table>\n",
       "</div>"
      ],
      "text/plain": [
       "             fruit_label      mass     width    height  color_score\n",
       "fruit_label     1.000000  0.032738 -0.298090  0.508766    -0.310521\n",
       "mass            0.032738  1.000000  0.877687  0.609571    -0.079794\n",
       "width          -0.298090  0.877687  1.000000  0.396848    -0.076576\n",
       "height          0.508766  0.609571  0.396848  1.000000    -0.247047\n",
       "color_score    -0.310521 -0.079794 -0.076576 -0.247047     1.000000"
      ]
     },
     "execution_count": 11,
     "metadata": {},
     "output_type": "execute_result"
    }
   ],
   "source": [
    "data.corr()"
   ]
  },
  {
   "cell_type": "code",
   "execution_count": 12,
   "id": "a0935fdb",
   "metadata": {},
   "outputs": [
    {
     "data": {
      "text/plain": [
       "<AxesSubplot: >"
      ]
     },
     "execution_count": 12,
     "metadata": {},
     "output_type": "execute_result"
    },
    {
     "data": {
      "image/png": "[encoded data removed]",
      "text/plain": [
       "<Figure size 432x288 with 2 Axes>"
      ]
     },
     "metadata": {
      "needs_background": "light"
     },
     "output_type": "display_data"
    }
   ],
   "source": [
    "sns.heatmap(data.corr(), cmap ='PiYG', annot = True )"
   ]
  },
  {
   "cell_type": "code",
   "execution_count": 13,
   "id": "134fef53",
   "metadata": {},
   "outputs": [
    {
     "name": "stderr",
     "output_type": "stream",
     "text": [
      "C:\\Users\\USER\\AppData\\Local\\Temp\\ipykernel_12628\\3494602222.py:1: UserWarning: \n",
      "\n",
      "`distplot` is a deprecated function and will be removed in seaborn v0.14.0.\n",
      "\n",
      "Please adapt your code to use either `displot` (a figure-level function with\n",
      "similar flexibility) or `histplot` (an axes-level function for histograms).\n",
      "\n",
      "For a guide to updating your code to use the new functions, please see\n",
      "https://gist.github.com/mwaskom/de44147ed2974457ad6372750bbe5751\n",
      "\n",
      "  sns.distplot(data['mass'], color = 'g')\n"
     ]
    },
    {
     "data": {
      "text/plain": [
       "<AxesSubplot: xlabel='mass', ylabel='Density'>"
      ]
     },
     "execution_count": 13,
     "metadata": {},
     "output_type": "execute_result"
    },
    {
     "data": {
      "image/png": "[encoded data removed]",
      "text/plain": [
       "<Figure size 432x288 with 1 Axes>"
      ]
     },
     "metadata": {
      "needs_background": "light"
     },
     "output_type": "display_data"
    }
   ],
   "source": [
    "sns.distplot(data['mass'], color = 'g')"
   ]
  },
  {
   "cell_type": "code",
   "execution_count": 14,
   "id": "49bd6903",
   "metadata": {},
   "outputs": [
    {
     "data": {
      "text/plain": [
       "turkey_navel        10\n",
       "unknown             10\n",
       "cripps_pink          6\n",
       "selected_seconds     6\n",
       "spanish_belsan       6\n",
       "mandarin             5\n",
       "braeburn             5\n",
       "golden_delicious     5\n",
       "granny_smith         3\n",
       "spanish_jumbo        3\n",
       "Name: fruit_subtype, dtype: int64"
      ]
     },
     "execution_count": 14,
     "metadata": {},
     "output_type": "execute_result"
    }
   ],
   "source": [
    "sub_type = data['fruit_subtype'].value_counts()\n",
    "sub_type"
   ]
  },
  {
   "cell_type": "code",
   "execution_count": 15,
   "id": "0e673e22",
   "metadata": {},
   "outputs": [
    {
     "data": {
      "text/plain": [
       "([<matplotlib.patches.Wedge at 0x1ca6c1ab3d0>,\n",
       "  <matplotlib.patches.Wedge at 0x1ca6c1abca0>,\n",
       "  <matplotlib.patches.Wedge at 0x1ca6c1d85b0>,\n",
       "  <matplotlib.patches.Wedge at 0x1ca6c1d8e80>,\n",
       "  <matplotlib.patches.Wedge at 0x1ca6c1d9750>,\n",
       "  <matplotlib.patches.Wedge at 0x1ca6c1da020>,\n",
       "  <matplotlib.patches.Wedge at 0x1ca6c1da8f0>,\n",
       "  <matplotlib.patches.Wedge at 0x1ca6c1db1c0>,\n",
       "  <matplotlib.patches.Wedge at 0x1ca6c1dba90>,\n",
       "  <matplotlib.patches.Wedge at 0x1ca6c2283d0>],\n",
       " [Text(1.8092635573927127, 1.0660982036804425, 'turkey_navel'),\n",
       "  Text(-0.055903174970450165, 2.0992557812301538, 'unknown'),\n",
       "  Text(-1.616651418376166, 1.340312721517755, 'cripps_pink'),\n",
       "  Text(-2.0970236628721786, 0.11176653056327449, 'selected_seconds'),\n",
       "  Text(-1.7499592355998637, -1.1608801289275053, 'spanish_belsan'),\n",
       "  Text(-0.8165307869154848, -1.9347551457533794, 'mandarin'),\n",
       "  Text(0.27872361390180567, -2.0814209442238054, 'braeburn'),\n",
       "  Text(1.2968017175986581, -1.6517582466066791, 'golden_delicious'),\n",
       "  Text(1.863439373752895, -0.9682942219942341, 'granny_smith'),\n",
       "  Text(2.073263546770088, -0.3340333301248782, 'spanish_jumbo')],\n",
       " [Text(1.3784865199182572, 0.8122652980422419, '16.9%'),\n",
       "  Text(-0.04259289521558107, 1.5994329761753554, '16.9%'),\n",
       "  Text(-1.2317344140008883, 1.0211906449659085, '10.2%'),\n",
       "  Text(-1.5977323145692788, 0.08515545185773293, '10.2%'),\n",
       "  Text(-1.3333022747427532, -0.88448009823048, '10.2%'),\n",
       "  Text(-0.6221186947927502, -1.4740991586692411, '8.5%'),\n",
       "  Text(0.21236084868709, -1.585844528932423, '8.5%'),\n",
       "  Text(0.9880394038846919, -1.2584824736050888, '8.5%'),\n",
       "  Text(1.419763332383158, -0.7377479786622735, '5.1%'),\n",
       "  Text(1.579629368967686, -0.25450158485705004, '5.1%')])"
      ]
     },
     "execution_count": 15,
     "metadata": {},
     "output_type": "execute_result"
    },
    {
     "data": {
      "image/png": "[encoded data removed]",
      "text/plain": [
       "<Figure size 432x288 with 1 Axes>"
      ]
     },
     "metadata": {},
     "output_type": "display_data"
    }
   ],
   "source": [
    "x = data['fruit_subtype'].value_counts().keys().tolist()\n",
    "y = data['fruit_subtype'].value_counts().tolist()\n",
    "labels =['turkey_navel', 'unknown', 'cripps_pink', 'selected_seconds', 'spanish_belsan', 'mandarin', 'braeburn', 'golden_delicious','granny_smith', 'spanish_jumbo']\n",
    "sizes = [1, 1, 1, 1, 1, 1, 1, 1, 1, 1]\n",
    "plt.legend(labels, loc = 'upper right')\n",
    "plt.pie(sub_type, sizes, labels = labels, shadow = True, autopct ='%.1f%%')"
   ]
  },
  {
   "cell_type": "code",
   "execution_count": 16,
   "id": "329d416f",
   "metadata": {
    "scrolled": false
   },
   "outputs": [
    {
     "data": {
      "text/html": [
       "<div>\n",
       "<style scoped>\n",
       "    .dataframe tbody tr th:only-of-type {\n",
       "        vertical-align: middle;\n",
       "    }\n",
       "\n",
       "    .dataframe tbody tr th {\n",
       "        vertical-align: top;\n",
       "    }\n",
       "\n",
       "    .dataframe thead th {\n",
       "        text-align: right;\n",
       "    }\n",
       "</style>\n",
       "<table border=\"1\" class=\"dataframe\">\n",
       "  <thead>\n",
       "    <tr style=\"text-align: right;\">\n",
       "      <th></th>\n",
       "      <th>fruit_label</th>\n",
       "      <th>fruit_name</th>\n",
       "      <th>fruit_subtype</th>\n",
       "      <th>mass</th>\n",
       "      <th>width</th>\n",
       "      <th>height</th>\n",
       "      <th>color_score</th>\n",
       "    </tr>\n",
       "  </thead>\n",
       "  <tbody>\n",
       "    <tr>\n",
       "      <th>0</th>\n",
       "      <td>1</td>\n",
       "      <td>apple</td>\n",
       "      <td>granny_smith</td>\n",
       "      <td>192</td>\n",
       "      <td>8.4</td>\n",
       "      <td>7.3</td>\n",
       "      <td>0.55</td>\n",
       "    </tr>\n",
       "    <tr>\n",
       "      <th>1</th>\n",
       "      <td>1</td>\n",
       "      <td>apple</td>\n",
       "      <td>granny_smith</td>\n",
       "      <td>180</td>\n",
       "      <td>8.0</td>\n",
       "      <td>6.8</td>\n",
       "      <td>0.59</td>\n",
       "    </tr>\n",
       "    <tr>\n",
       "      <th>2</th>\n",
       "      <td>1</td>\n",
       "      <td>apple</td>\n",
       "      <td>granny_smith</td>\n",
       "      <td>176</td>\n",
       "      <td>7.4</td>\n",
       "      <td>7.2</td>\n",
       "      <td>0.60</td>\n",
       "    </tr>\n",
       "    <tr>\n",
       "      <th>3</th>\n",
       "      <td>2</td>\n",
       "      <td>mandarin</td>\n",
       "      <td>mandarin</td>\n",
       "      <td>86</td>\n",
       "      <td>6.2</td>\n",
       "      <td>4.7</td>\n",
       "      <td>0.80</td>\n",
       "    </tr>\n",
       "    <tr>\n",
       "      <th>4</th>\n",
       "      <td>2</td>\n",
       "      <td>mandarin</td>\n",
       "      <td>mandarin</td>\n",
       "      <td>84</td>\n",
       "      <td>6.0</td>\n",
       "      <td>4.6</td>\n",
       "      <td>0.79</td>\n",
       "    </tr>\n",
       "  </tbody>\n",
       "</table>\n",
       "</div>"
      ],
      "text/plain": [
       "   fruit_label fruit_name fruit_subtype  mass  width  height  color_score\n",
       "0            1      apple  granny_smith   192    8.4     7.3         0.55\n",
       "1            1      apple  granny_smith   180    8.0     6.8         0.59\n",
       "2            1      apple  granny_smith   176    7.4     7.2         0.60\n",
       "3            2   mandarin      mandarin    86    6.2     4.7         0.80\n",
       "4            2   mandarin      mandarin    84    6.0     4.6         0.79"
      ]
     },
     "execution_count": 16,
     "metadata": {},
     "output_type": "execute_result"
    }
   ],
   "source": [
    "data.head()"
   ]
  },
  {
   "cell_type": "markdown",
   "id": "e4ddc4ff",
   "metadata": {},
   "source": [
    "### Splitting the data into test_train"
   ]
  },
  {
   "cell_type": "code",
   "execution_count": 17,
   "id": "34b62f0a",
   "metadata": {},
   "outputs": [],
   "source": [
    "#We are using only 3 features here to how important a feature is for prediction\n",
    "feature_names = ['mass', 'width', 'height']\n",
    "X = data[feature_names]\n",
    "Y = data['fruit_label']\n",
    "#split the data\n",
    "X_train, X_test, Y_train, Y_test = train_test_split(X, Y, random_state = 0, test_size = 0.2)"
   ]
  },
  {
   "cell_type": "code",
   "execution_count": 18,
   "id": "50afe700",
   "metadata": {},
   "outputs": [
    {
     "data": {
      "text/plain": [
       "((47, 3), (12, 3), (47,), (12,))"
      ]
     },
     "execution_count": 18,
     "metadata": {},
     "output_type": "execute_result"
    }
   ],
   "source": [
    "X_train.shape, X_test.shape, Y_train.shape, Y_test.shape"
   ]
  },
  {
   "cell_type": "markdown",
   "id": "b6a14d31",
   "metadata": {},
   "source": [
    "#### MinMaxscaling Data pre-processing"
   ]
  },
  {
   "cell_type": "code",
   "execution_count": 19,
   "id": "7cc0fff7",
   "metadata": {},
   "outputs": [],
   "source": [
    "scaler = MinMaxScaler()\n",
    "X_train = scaler.fit_transform(X_train)\n",
    "X_test = scaler.transform(X_test)"
   ]
  },
  {
   "cell_type": "markdown",
   "id": "4dd8ecfb",
   "metadata": {},
   "source": [
    "#### Using LogisticRegression Model"
   ]
  },
  {
   "cell_type": "code",
   "execution_count": 20,
   "id": "8800d685",
   "metadata": {},
   "outputs": [],
   "source": [
    "from sklearn.linear_model import LogisticRegression\n",
    "logReg = LogisticRegression()\n",
    "model1 = logReg.fit(X_train, Y_train)  "
   ]
  },
  {
   "cell_type": "code",
   "execution_count": 21,
   "id": "73aef0ab",
   "metadata": {},
   "outputs": [
    {
     "name": "stdout",
     "output_type": "stream",
     "text": [
      "Accuracy of Logistic regression classifier on training set: 0.79\n",
      "Accuracy of Logistic regression classifier on test set: 0.58\n"
     ]
    }
   ],
   "source": [
    "print('Accuracy of Logistic regression classifier on training set: {:.2f}'\n",
    "     .format(model1.score(X_train, Y_train)))\n",
    "print('Accuracy of Logistic regression classifier on test set: {:.2f}'\n",
    "     .format(model1.score(X_test, Y_test)))"
   ]
  },
  {
   "cell_type": "code",
   "execution_count": 22,
   "id": "a4e55720",
   "metadata": {},
   "outputs": [
    {
     "name": "stdout",
     "output_type": "stream",
     "text": [
      "first 20 prdicted:  [1 1 3 1 4 2 1 1 4 1 1 4 1 4 3 1 2 3 1 4 1 4 1 1 3 1 4 4 4 1]\n",
      "\n",
      "first 20 Original:  [3 3 3 3 4 2 1 3 4 3 3 4 1 4 3 1 2 3 1 4 1 4 1 1 3 1 4 4 4 3]\n"
     ]
    }
   ],
   "source": [
    "pred_train = model1.predict(X_train)\n",
    "print('first 20 prdicted: ', pred_train[:30])\n",
    "print()\n",
    "print('first 20 Original: ', Y_train[:30].values)"
   ]
  },
  {
   "cell_type": "markdown",
   "id": "e0ea0e68",
   "metadata": {},
   "source": [
    "### Using RandomForestClassifier"
   ]
  },
  {
   "cell_type": "code",
   "execution_count": 23,
   "id": "17095c5e",
   "metadata": {},
   "outputs": [],
   "source": [
    "from sklearn.ensemble import RandomForestClassifier\n",
    "for k in range(1, 200):\n",
    "    rfc = RandomForestClassifier(n_estimators = k, random_state = 0)\n",
    "    model2 = rfc.fit(X_train, Y_train)"
   ]
  },
  {
   "cell_type": "code",
   "execution_count": 24,
   "id": "18f663ab",
   "metadata": {},
   "outputs": [
    {
     "name": "stdout",
     "output_type": "stream",
     "text": [
      "Accuracy of Random Forest classifier on training set: 1.00\n",
      "Accuracy of Random Forest classifier on test set: 0.75\n"
     ]
    }
   ],
   "source": [
    "print('Accuracy of Random Forest classifier on training set: {:.2f}'\n",
    "     .format(model2.score(X_train, Y_train)))\n",
    "print('Accuracy of Random Forest classifier on test set: {:.2f}'\n",
    "     .format(model2.score(X_test, Y_test)))"
   ]
  },
  {
   "cell_type": "code",
   "execution_count": 25,
   "id": "d029e65a",
   "metadata": {},
   "outputs": [
    {
     "name": "stdout",
     "output_type": "stream",
     "text": [
      "first 20 prdicted:  [1 1 3 1 4 2 1 1 4 1 1 4 1 4 3 1 2 3 1 4 1 4 1 1 3 1 4 4 4 1]\n",
      "\n",
      "first 20 Original:  [3 3 3 3 4 2 1 3 4 3 3 4 1 4 3 1 2 3 1 4 1 4 1 1 3 1 4 4 4 3]\n"
     ]
    }
   ],
   "source": [
    "pred_train1 = model2.predict(X_train)\n",
    "print('first 20 prdicted: ', pred_train[:30])\n",
    "print()\n",
    "print('first 20 Original: ', Y_train[:30].values)"
   ]
  },
  {
   "cell_type": "markdown",
   "id": "3c60ad5f",
   "metadata": {},
   "source": [
    "#### Using KNeighborsClassifier Model"
   ]
  },
  {
   "cell_type": "code",
   "execution_count": 26,
   "id": "d24a6d28",
   "metadata": {},
   "outputs": [
    {
     "name": "stdout",
     "output_type": "stream",
     "text": [
      "Accuracy of K-NN classifier on training set: 0.96\n",
      "Accuracy of K-NN classifier on test set: 0.67\n"
     ]
    }
   ],
   "source": [
    "from sklearn.neighbors import KNeighborsClassifier\n",
    "\n",
    "knn = KNeighborsClassifier()\n",
    "model3 = knn.fit(X_train, Y_train)\n",
    "\n",
    "print('Accuracy of K-NN classifier on training set: {:.2f}'\n",
    "     .format(model3.score(X_train, Y_train)))\n",
    "print('Accuracy of K-NN classifier on test set: {:.2f}'\n",
    "     .format(model3.score(X_test, Y_test)))"
   ]
  },
  {
   "cell_type": "code",
   "execution_count": 27,
   "id": "9a1edb09",
   "metadata": {},
   "outputs": [
    {
     "name": "stdout",
     "output_type": "stream",
     "text": [
      "first 20 prdicted:  [1 1 3 1 4 2 1 1 4 1 1 4 1 4 3 1 2 3 1 4 1 4 1 1 3 1 4 4 4 1]\n",
      "\n",
      "first 20 Original:  [3 3 3 3 4 2 1 3 4 3 3 4 1 4 3 1 2 3 1 4 1 4 1 1 3 1 4 4 4 3]\n"
     ]
    }
   ],
   "source": [
    "pred_train2 = model3.predict(X_train)\n",
    "print('first 20 prdicted: ', pred_train[:30])\n",
    "print()\n",
    "print('first 20 Original: ', Y_train[:30].values)"
   ]
  },
  {
   "cell_type": "markdown",
   "id": "63ca8c16",
   "metadata": {},
   "source": [
    "#### Using DecisionTreeClassifier"
   ]
  },
  {
   "cell_type": "code",
   "execution_count": 28,
   "id": "3e56c2b8",
   "metadata": {},
   "outputs": [
    {
     "name": "stdout",
     "output_type": "stream",
     "text": [
      "Accuracy of DecisionTreeClassifier on training set: 1.00\n",
      "Accuracy of DecisionTreeClassifier on test set: 0.75\n"
     ]
    }
   ],
   "source": [
    "from sklearn.tree import DecisionTreeClassifier\n",
    "\n",
    "clf = DecisionTreeClassifier()\n",
    "clf.fit(X_train, Y_train)\n",
    "print('Accuracy of DecisionTreeClassifier on training set: {:.2f}'\n",
    "     .format(clf.score(X_train, Y_train)))\n",
    "print('Accuracy of DecisionTreeClassifier on test set: {:.2f}'\n",
    "     .format(clf.score(X_test, Y_test)))"
   ]
  },
  {
   "cell_type": "markdown",
   "id": "208a702b",
   "metadata": {},
   "source": [
    "#### Using Support Vector Machine"
   ]
  },
  {
   "cell_type": "code",
   "execution_count": 29,
   "id": "4d4fad29",
   "metadata": {},
   "outputs": [
    {
     "name": "stdout",
     "output_type": "stream",
     "text": [
      "Accuracy of Support Vector Machine on training set: 0.83\n",
      "Accuracy of Support Vector Machine on test set: 0.75\n"
     ]
    }
   ],
   "source": [
    "from sklearn.svm import SVC\n",
    "svm = SVC()\n",
    "svm.fit(X_train, Y_train)\n",
    "print('Accuracy of Support Vector Machine on training set: {:.2f}'\n",
    "     .format(svm.score(X_train, Y_train)))\n",
    "print('Accuracy of Support Vector Machine on test set: {:.2f}'\n",
    "     .format(svm.score(X_test, Y_test)))"
   ]
  },
  {
   "cell_type": "markdown",
   "id": "7f2f2a53",
   "metadata": {},
   "source": [
    "# The above Algorithms were modeled without checking for and removing outliers in the dataset"
   ]
  },
  {
   "cell_type": "markdown",
   "id": "2f686b94",
   "metadata": {},
   "source": [
    "### Let's check for outliers and run our models again to check for changes"
   ]
  },
  {
   "cell_type": "code",
   "execution_count": 30,
   "id": "a0472e2e",
   "metadata": {},
   "outputs": [
    {
     "data": {
      "image/png": "[encoded data removed]",
      "text/plain": [
       "<Figure size 432x432 with 4 Axes>"
      ]
     },
     "metadata": {
      "needs_background": "light"
     },
     "output_type": "display_data"
    }
   ],
   "source": [
    "#Checking for outliers\n",
    "data.drop('fruit_label', axis=1).plot(kind='box', subplots=True, layout=(2,2), sharex=False, sharey=False, figsize=(6, 6), \n",
    "                                        title='Distribution of input variables')\n",
    "plt.savefig('fruits_box')"
   ]
  },
  {
   "cell_type": "markdown",
   "id": "c9d820fd",
   "metadata": {},
   "source": [
    "### Using Interquartile range to check for outliers"
   ]
  },
  {
   "cell_type": "code",
   "execution_count": 31,
   "id": "b3619bab",
   "metadata": {},
   "outputs": [
    {
     "data": {
      "text/html": [
       "<div>\n",
       "<style scoped>\n",
       "    .dataframe tbody tr th:only-of-type {\n",
       "        vertical-align: middle;\n",
       "    }\n",
       "\n",
       "    .dataframe tbody tr th {\n",
       "        vertical-align: top;\n",
       "    }\n",
       "\n",
       "    .dataframe thead th {\n",
       "        text-align: right;\n",
       "    }\n",
       "</style>\n",
       "<table border=\"1\" class=\"dataframe\">\n",
       "  <thead>\n",
       "    <tr style=\"text-align: right;\">\n",
       "      <th></th>\n",
       "      <th>fruit_label</th>\n",
       "      <th>mass</th>\n",
       "      <th>width</th>\n",
       "      <th>height</th>\n",
       "      <th>color_score</th>\n",
       "    </tr>\n",
       "  </thead>\n",
       "  <tbody>\n",
       "    <tr>\n",
       "      <th>0</th>\n",
       "      <td>1</td>\n",
       "      <td>192</td>\n",
       "      <td>8.4</td>\n",
       "      <td>7.3</td>\n",
       "      <td>0.55</td>\n",
       "    </tr>\n",
       "    <tr>\n",
       "      <th>1</th>\n",
       "      <td>1</td>\n",
       "      <td>180</td>\n",
       "      <td>8.0</td>\n",
       "      <td>6.8</td>\n",
       "      <td>0.59</td>\n",
       "    </tr>\n",
       "  </tbody>\n",
       "</table>\n",
       "</div>"
      ],
      "text/plain": [
       "   fruit_label  mass  width  height  color_score\n",
       "0            1   192    8.4     7.3         0.55\n",
       "1            1   180    8.0     6.8         0.59"
      ]
     },
     "execution_count": 31,
     "metadata": {},
     "output_type": "execute_result"
    }
   ],
   "source": [
    "data1 = data[['fruit_label','mass', 'width', 'height', 'color_score']]\n",
    "data1.head(2)"
   ]
  },
  {
   "cell_type": "code",
   "execution_count": 32,
   "id": "534cd6ca",
   "metadata": {},
   "outputs": [
    {
     "name": "stdout",
     "output_type": "stream",
     "text": [
      "    fruit_label   mass  width  height  color_score\n",
      "0           NaN    NaN    NaN     NaN         0.55\n",
      "1           NaN    NaN    NaN     NaN          NaN\n",
      "2           NaN    NaN    NaN     NaN          NaN\n",
      "3           NaN    NaN    NaN     4.7          NaN\n",
      "4           NaN   84.0    NaN     4.6          NaN\n",
      "5           NaN   80.0    NaN     4.3          NaN\n",
      "6           NaN   80.0    NaN     4.3          NaN\n",
      "7           NaN   76.0    NaN     4.0          NaN\n",
      "8           NaN    NaN    NaN     NaN          NaN\n",
      "9           NaN    NaN    NaN     NaN          NaN\n",
      "10          NaN    NaN    NaN     NaN          NaN\n",
      "11          NaN    NaN    NaN     NaN          NaN\n",
      "12          NaN    NaN    NaN     NaN          NaN\n",
      "13          NaN    NaN    NaN     NaN          NaN\n",
      "14          NaN    NaN    NaN     NaN          NaN\n",
      "15          NaN    NaN    NaN     NaN          NaN\n",
      "16          NaN    NaN    NaN     NaN          NaN\n",
      "17          NaN    NaN    NaN     NaN          NaN\n",
      "18          NaN    NaN    NaN     NaN          NaN\n",
      "19          NaN    NaN    NaN     NaN          NaN\n",
      "20          NaN    NaN    NaN     NaN          NaN\n",
      "21          NaN    NaN    NaN     NaN          NaN\n",
      "22          NaN    NaN    NaN     NaN          NaN\n",
      "23          NaN    NaN    NaN     NaN          NaN\n",
      "24          NaN  342.0    9.0     NaN          NaN\n",
      "25          NaN  356.0    9.2     NaN          NaN\n",
      "26          NaN  362.0    9.6     NaN          NaN\n",
      "27          NaN    NaN    NaN     NaN          NaN\n",
      "28          NaN    NaN    NaN     NaN          NaN\n",
      "29          NaN    NaN    NaN     NaN          NaN\n",
      "30          NaN    NaN    NaN     NaN          NaN\n",
      "31          NaN    NaN    NaN     NaN          NaN\n",
      "32          NaN    NaN    NaN     NaN          NaN\n",
      "33          NaN    NaN    NaN     NaN          NaN\n",
      "34          NaN    NaN    NaN     NaN          NaN\n",
      "35          NaN    NaN    NaN     NaN          NaN\n",
      "36          NaN    NaN    NaN     NaN          NaN\n",
      "37          NaN    NaN    NaN     NaN          NaN\n",
      "38          NaN    NaN    NaN     NaN          NaN\n",
      "39          NaN    NaN    NaN     NaN          NaN\n",
      "40          NaN    NaN    NaN     NaN          NaN\n",
      "41          NaN    NaN    NaN     NaN          NaN\n",
      "42          NaN    NaN    NaN     NaN          NaN\n",
      "43          NaN    NaN    NaN    10.3          NaN\n",
      "44          NaN    NaN    NaN    10.5          NaN\n",
      "45          NaN    NaN    NaN     NaN          NaN\n",
      "46          NaN    NaN    NaN    10.2          NaN\n",
      "47          NaN    NaN    NaN     9.7          NaN\n",
      "48          NaN    NaN    NaN    10.1          NaN\n",
      "49          NaN    NaN    NaN     NaN          NaN\n",
      "50          NaN    NaN    NaN     NaN          NaN\n",
      "51          NaN    NaN    NaN     NaN          NaN\n",
      "52          NaN    NaN    NaN     NaN          NaN\n",
      "53          NaN    NaN    NaN     NaN          NaN\n",
      "54          NaN    NaN    NaN     NaN          NaN\n",
      "55          NaN    NaN    NaN     NaN          NaN\n",
      "56          NaN    NaN    NaN     NaN          NaN\n",
      "57          NaN    NaN    NaN     NaN          NaN\n",
      "58          NaN    NaN    NaN     NaN          NaN\n"
     ]
    }
   ],
   "source": [
    "Q1 = data1.quantile(0.25)\n",
    "Q3 = data1.quantile(0.75)\n",
    "IQR = Q3 - Q1\n",
    "\n",
    "# Calculate the upper and lower limits\n",
    "upper_limit = Q3 + 1.5 * IQR\n",
    "lower_limit = Q1 - 1.5 * IQR\n",
    "\n",
    "# Identify the outliers\n",
    "outliers = data1[(data1 < lower_limit) | (data1 > upper_limit)]\n",
    "print(outliers)"
   ]
  },
  {
   "cell_type": "code",
   "execution_count": 33,
   "id": "e7f2c0cc",
   "metadata": {},
   "outputs": [
    {
     "data": {
      "text/html": [
       "<div>\n",
       "<style scoped>\n",
       "    .dataframe tbody tr th:only-of-type {\n",
       "        vertical-align: middle;\n",
       "    }\n",
       "\n",
       "    .dataframe tbody tr th {\n",
       "        vertical-align: top;\n",
       "    }\n",
       "\n",
       "    .dataframe thead th {\n",
       "        text-align: right;\n",
       "    }\n",
       "</style>\n",
       "<table border=\"1\" class=\"dataframe\">\n",
       "  <thead>\n",
       "    <tr style=\"text-align: right;\">\n",
       "      <th></th>\n",
       "      <th>fruit_label</th>\n",
       "      <th>mass</th>\n",
       "      <th>width</th>\n",
       "      <th>height</th>\n",
       "      <th>color_score</th>\n",
       "    </tr>\n",
       "  </thead>\n",
       "  <tbody>\n",
       "    <tr>\n",
       "      <th>0</th>\n",
       "      <td>1</td>\n",
       "      <td>192.0</td>\n",
       "      <td>8.4</td>\n",
       "      <td>7.3</td>\n",
       "      <td>NaN</td>\n",
       "    </tr>\n",
       "    <tr>\n",
       "      <th>1</th>\n",
       "      <td>1</td>\n",
       "      <td>180.0</td>\n",
       "      <td>8.0</td>\n",
       "      <td>6.8</td>\n",
       "      <td>0.59</td>\n",
       "    </tr>\n",
       "    <tr>\n",
       "      <th>2</th>\n",
       "      <td>1</td>\n",
       "      <td>176.0</td>\n",
       "      <td>7.4</td>\n",
       "      <td>7.2</td>\n",
       "      <td>0.60</td>\n",
       "    </tr>\n",
       "    <tr>\n",
       "      <th>3</th>\n",
       "      <td>2</td>\n",
       "      <td>86.0</td>\n",
       "      <td>6.2</td>\n",
       "      <td>NaN</td>\n",
       "      <td>0.80</td>\n",
       "    </tr>\n",
       "    <tr>\n",
       "      <th>4</th>\n",
       "      <td>2</td>\n",
       "      <td>NaN</td>\n",
       "      <td>6.0</td>\n",
       "      <td>NaN</td>\n",
       "      <td>0.79</td>\n",
       "    </tr>\n",
       "  </tbody>\n",
       "</table>\n",
       "</div>"
      ],
      "text/plain": [
       "   fruit_label   mass  width  height  color_score\n",
       "0            1  192.0    8.4     7.3          NaN\n",
       "1            1  180.0    8.0     6.8         0.59\n",
       "2            1  176.0    7.4     7.2         0.60\n",
       "3            2   86.0    6.2     NaN         0.80\n",
       "4            2    NaN    6.0     NaN         0.79"
      ]
     },
     "execution_count": 33,
     "metadata": {},
     "output_type": "execute_result"
    }
   ],
   "source": [
    "# Remove the outliers\n",
    "data1 = data1[(data1 >= lower_limit) & (data1 <= upper_limit)]\n",
    "data1.head(5)"
   ]
  },
  {
   "cell_type": "markdown",
   "id": "c087e517",
   "metadata": {},
   "source": [
    "##### After removing outliers, I added the last feature to see if there will be an improvement in the model"
   ]
  },
  {
   "cell_type": "code",
   "execution_count": 34,
   "id": "59a9e9d9",
   "metadata": {},
   "outputs": [],
   "source": [
    "\n",
    "feature_names = ['mass', 'width', 'height', 'color_score']\n",
    "A = data[feature_names]\n",
    "B = data['fruit_label']\n",
    "#split the data\n",
    "A_train, A_test, B_train, B_test = train_test_split(A, B, random_state = 0, test_size = 0.2)"
   ]
  },
  {
   "cell_type": "code",
   "execution_count": 35,
   "id": "e9caa4d5",
   "metadata": {},
   "outputs": [
    {
     "data": {
      "text/plain": [
       "((47, 4), (12, 4), (12,), (47,))"
      ]
     },
     "execution_count": 35,
     "metadata": {},
     "output_type": "execute_result"
    }
   ],
   "source": [
    "A_train.shape, A_test.shape, B_test.shape, B_train.shape"
   ]
  },
  {
   "cell_type": "code",
   "execution_count": 36,
   "id": "ae2e01fd",
   "metadata": {},
   "outputs": [],
   "source": [
    "scaler = MinMaxScaler()\n",
    "A_train = scaler.fit_transform(A_train)\n",
    "A_test = scaler.transform(A_test)"
   ]
  },
  {
   "cell_type": "markdown",
   "id": "2173851b",
   "metadata": {},
   "source": [
    "#### Using LogisticRegression()"
   ]
  },
  {
   "cell_type": "code",
   "execution_count": 37,
   "id": "5ec859d6",
   "metadata": {},
   "outputs": [
    {
     "name": "stdout",
     "output_type": "stream",
     "text": [
      "Accuracy of Logistic regression classifier on training set: 0.77\n",
      "Accuracy of Logistic regression classifier on test set: 0.42\n"
     ]
    }
   ],
   "source": [
    "logReg = LogisticRegression()\n",
    "model_log = logReg.fit(A_train, B_train) \n",
    "\n",
    "print('Accuracy of Logistic regression classifier on training set: {:.2f}'\n",
    "     .format(model_log.score(A_train, B_train)))\n",
    "print('Accuracy of Logistic regression classifier on test set: {:.2f}'\n",
    "     .format(model_log.score(A_test, B_test)))"
   ]
  },
  {
   "cell_type": "code",
   "execution_count": 38,
   "id": "f76d9542",
   "metadata": {},
   "outputs": [
    {
     "name": "stdout",
     "output_type": "stream",
     "text": [
      "first 20 prdicted:  [1 1 3 1 4 2 1 1 4 1 1 4 1 4 3 1 2 3 1 4 1 4 3 1 3 1 4 4 4 1]\n",
      "\n",
      "first 20 Original:  [3 3 3 3 4 2 1 3 4 3 3 4 1 4 3 1 2 3 1 4 1 4 1 1 3 1 4 4 4 3]\n"
     ]
    }
   ],
   "source": [
    "pred_train = model_log.predict(A_train)\n",
    "print('first 20 prdicted: ', pred_train[:30])\n",
    "print()\n",
    "print('first 20 Original: ', B_train[:30].values)"
   ]
  },
  {
   "cell_type": "markdown",
   "id": "88ee1be3",
   "metadata": {},
   "source": [
    "#### Using KNeighborsClassifier()"
   ]
  },
  {
   "cell_type": "code",
   "execution_count": 39,
   "id": "e723ca61",
   "metadata": {},
   "outputs": [
    {
     "name": "stdout",
     "output_type": "stream",
     "text": [
      "Accuracy of K-NN classifier on training set: 0.98\n",
      "Accuracy of K-NN classifier on test set: 1.00\n"
     ]
    }
   ],
   "source": [
    "knn = KNeighborsClassifier()\n",
    "model = knn.fit(A_train, B_train)\n",
    "\n",
    "print('Accuracy of K-NN classifier on training set: {:.2f}'\n",
    "     .format(model.score(A_train, B_train)))\n",
    "print('Accuracy of K-NN classifier on test set: {:.2f}'\n",
    "     .format(model.score(A_test, B_test)))"
   ]
  },
  {
   "cell_type": "code",
   "execution_count": 40,
   "id": "c06201e2",
   "metadata": {},
   "outputs": [
    {
     "name": "stdout",
     "output_type": "stream",
     "text": [
      "first 20 prdicted:  [3 3 3 3 4 2 1 3 4 3 3 4 1 4 3 1 2 1 1 4 1 4 1 1 3 1 4 4 4 3]\n",
      "\n",
      "first 20 Original:  [3 3 3 3 4 2 1 3 4 3 3 4 1 4 3 1 2 3 1 4 1 4 1 1 3 1 4 4 4 3]\n"
     ]
    }
   ],
   "source": [
    "pred_train = model.predict(A_train)\n",
    "print('first 20 prdicted: ', pred_train[:30])\n",
    "print()\n",
    "print('first 20 Original: ', B_train[:30].values)"
   ]
  },
  {
   "cell_type": "markdown",
   "id": "1a5dc4dd",
   "metadata": {},
   "source": [
    "##### We recorded a perfect prediction using Knn. This shows that the color_score feature is a very important feature indetermining the accuracy of the model"
   ]
  },
  {
   "cell_type": "markdown",
   "id": "9eed30d1",
   "metadata": {},
   "source": [
    "#### Using Support Vector Machine"
   ]
  },
  {
   "cell_type": "code",
   "execution_count": 41,
   "id": "1cdea8b0",
   "metadata": {},
   "outputs": [
    {
     "name": "stdout",
     "output_type": "stream",
     "text": [
      "Accuracy of Support Vector Machine on training set: 0.96\n",
      "Accuracy of Support Vector Machine on test set: 1.00\n"
     ]
    }
   ],
   "source": [
    "svm = SVC()\n",
    "model_svm = svm.fit(A_train, B_train)\n",
    "print('Accuracy of Support Vector Machine on training set: {:.2f}'\n",
    "     .format(model_svm.score(A_train, B_train)))\n",
    "print('Accuracy of Support Vector Machine on test set: {:.2f}'\n",
    "     .format(model_svm.score(A_test, B_test)))"
   ]
  },
  {
   "cell_type": "code",
   "execution_count": 42,
   "id": "017806df",
   "metadata": {},
   "outputs": [
    {
     "name": "stdout",
     "output_type": "stream",
     "text": [
      "first 20 prdicted:  [3 3 3 3 4 2 1 3 4 3 3 4 1 4 3 1 2 3 1 4 1 4 1 3 3 3 4 4 4 3]\n",
      "\n",
      "first 20 Original:  [3 3 3 3 4 2 1 3 4 3 3 4 1 4 3 1 2 3 1 4 1 4 1 1 3 1 4 4 4 3]\n"
     ]
    }
   ],
   "source": [
    "pred_train = model_svm.predict(A_train)\n",
    "print('first 20 prdicted: ', pred_train[:30])\n",
    "print()\n",
    "print('first 20 Original: ', B_train[:30].values)"
   ]
  },
  {
   "cell_type": "markdown",
   "id": "9ef0997d",
   "metadata": {},
   "source": [
    "#### Using DecisionTreeClassifier"
   ]
  },
  {
   "cell_type": "code",
   "execution_count": 43,
   "id": "618be614",
   "metadata": {},
   "outputs": [
    {
     "name": "stdout",
     "output_type": "stream",
     "text": [
      "Accuracy of DecisionTreeClassifier on training set: 1.00\n",
      "Accuracy of DecisionTreeClassifier on test set: 0.92\n"
     ]
    }
   ],
   "source": [
    "clf = DecisionTreeClassifier()\n",
    "model_clf = clf.fit(A_train, B_train)\n",
    "print('Accuracy of DecisionTreeClassifier on training set: {:.2f}'\n",
    "     .format(model_clf.score(A_train, B_train)))\n",
    "print('Accuracy of DecisionTreeClassifier on test set: {:.2f}'\n",
    "     .format(model_clf.score(A_test, B_test)))"
   ]
  },
  {
   "cell_type": "code",
   "execution_count": 44,
   "id": "3276e147",
   "metadata": {},
   "outputs": [
    {
     "name": "stdout",
     "output_type": "stream",
     "text": [
      "first 20 prdicted:  [3 3 3 3 4 2 1 3 4 3 3 4 1 4 3 1 2 3 1 4 1 4 1 1 3 1 4 4 4 3]\n",
      "\n",
      "first 20 Original:  [3 3 3 3 4 2 1 3 4 3 3 4 1 4 3 1 2 3 1 4 1 4 1 1 3 1 4 4 4 3]\n"
     ]
    }
   ],
   "source": [
    "pred_train = model_clf.predict(A_train)\n",
    "print('first 20 prdicted: ', pred_train[:30])\n",
    "print()\n",
    "print('first 20 Original: ', B_train[:30].values)"
   ]
  },
  {
   "cell_type": "code",
   "execution_count": 45,
   "id": "43f1141f",
   "metadata": {
    "scrolled": false
   },
   "outputs": [],
   "source": [
    "#pip install graphviz"
   ]
  },
  {
   "cell_type": "code",
   "execution_count": 46,
   "id": "39438d72",
   "metadata": {
    "scrolled": true
   },
   "outputs": [],
   "source": [
    "#pip install dtreeviz"
   ]
  },
  {
   "cell_type": "code",
   "execution_count": 47,
   "id": "836fc5c7",
   "metadata": {},
   "outputs": [
    {
     "name": "stdout",
     "output_type": "stream",
     "text": [
      "|--- feature_1 <= 0.25\n",
      "|   |--- feature_3 <= 0.55\n",
      "|   |   |--- class: 4\n",
      "|   |--- feature_3 >  0.55\n",
      "|   |   |--- class: 2\n",
      "|--- feature_1 >  0.25\n",
      "|   |--- feature_3 <= 0.74\n",
      "|   |   |--- feature_3 <= 0.50\n",
      "|   |   |   |--- feature_2 <= 0.68\n",
      "|   |   |   |   |--- class: 1\n",
      "|   |   |   |--- feature_2 >  0.68\n",
      "|   |   |   |   |--- class: 4\n",
      "|   |   |--- feature_3 >  0.50\n",
      "|   |   |   |--- class: 3\n",
      "|   |--- feature_3 >  0.74\n",
      "|   |   |--- class: 1\n",
      "\n"
     ]
    }
   ],
   "source": [
    "from sklearn import tree\n",
    "#Exporting Decision Tree to the text representation can be useful when working on applications whitout user interface or\n",
    "#when we want to log information about the model into the text file. You can check details about export_text in the sklearn\n",
    "\n",
    "text_representation = tree.export_text(clf)\n",
    "print(text_representation)"
   ]
  },
  {
   "cell_type": "code",
   "execution_count": 48,
   "id": "89a36d25",
   "metadata": {},
   "outputs": [
    {
     "data": {
      "image/svg+xml": [
       "<?xml version=\"1.0\" encoding=\"UTF-8\" standalone=\"no\"?>\n",
       "<!DOCTYPE svg PUBLIC \"-//W3C//DTD SVG 1.1//EN\"\n",
       " \"http://www.w3.org/Graphics/SVG/1.1/DTD/svg11.dtd\">\n",
       "<!-- Generated by graphviz version 8.0.5 (20230430.1635)\n",
       " -->\n",
       "<!-- Title: Tree Pages: 1 -->\n",
       "<svg width=\"600pt\" height=\"506pt\"\n",
       " viewBox=\"0.00 0.00 599.88 505.50\" xmlns=\"http://www.w3.org/2000/svg\" xmlns:xlink=\"http://www.w3.org/1999/xlink\">\n",
       "<g id=\"graph0\" class=\"graph\" transform=\"scale(1 1) rotate(0) translate(4 501.5)\">\n",
       "<title>Tree</title>\n",
       "<polygon fill=\"white\" stroke=\"none\" points=\"-4,4 -4,-501.5 595.88,-501.5 595.88,4 -4,4\"/>\n",
       "<!-- 0 -->\n",
       "<g id=\"node1\" class=\"node\">\n",
       "<title>0</title>\n",
       "<polygon fill=\"#fefbf9\" stroke=\"black\" points=\"373.25,-497.5 220.75,-497.5 220.75,-423.5 373.25,-423.5 373.25,-497.5\"/>\n",
       "<text text-anchor=\"middle\" x=\"297\" y=\"-480.2\" font-family=\"Helvetica,sans-Serif\" font-size=\"14.00\">width &lt;= 0.25</text>\n",
       "<text text-anchor=\"middle\" x=\"297\" y=\"-463.7\" font-family=\"Helvetica,sans-Serif\" font-size=\"14.00\">gini = 0.713</text>\n",
       "<text text-anchor=\"middle\" x=\"297\" y=\"-447.2\" font-family=\"Helvetica,sans-Serif\" font-size=\"14.00\">samples = 47</text>\n",
       "<text text-anchor=\"middle\" x=\"297\" y=\"-430.7\" font-family=\"Helvetica,sans-Serif\" font-size=\"14.00\">value = [15, 4, 14, 14]</text>\n",
       "</g>\n",
       "<!-- 1 -->\n",
       "<g id=\"node2\" class=\"node\">\n",
       "<title>1</title>\n",
       "<polygon fill=\"#e788ef\" stroke=\"black\" points=\"288.25,-387.5 135.75,-387.5 135.75,-313.5 288.25,-313.5 288.25,-387.5\"/>\n",
       "<text text-anchor=\"middle\" x=\"212\" y=\"-370.2\" font-family=\"Helvetica,sans-Serif\" font-size=\"14.00\">color_score &lt;= 0.554</text>\n",
       "<text text-anchor=\"middle\" x=\"212\" y=\"-353.7\" font-family=\"Helvetica,sans-Serif\" font-size=\"14.00\">gini = 0.408</text>\n",
       "<text text-anchor=\"middle\" x=\"212\" y=\"-337.2\" font-family=\"Helvetica,sans-Serif\" font-size=\"14.00\">samples = 14</text>\n",
       "<text text-anchor=\"middle\" x=\"212\" y=\"-320.7\" font-family=\"Helvetica,sans-Serif\" font-size=\"14.00\">value = [0, 4, 0, 10]</text>\n",
       "</g>\n",
       "<!-- 0&#45;&gt;1 -->\n",
       "<g id=\"edge1\" class=\"edge\">\n",
       "<title>0&#45;&gt;1</title>\n",
       "<path fill=\"none\" stroke=\"black\" d=\"M268.46,-423.24C261.66,-414.6 254.33,-405.28 247.27,-396.31\"/>\n",
       "<polygon fill=\"black\" stroke=\"black\" points=\"249.54,-394.54 240.61,-388.85 244.04,-398.87 249.54,-394.54\"/>\n",
       "<text text-anchor=\"middle\" x=\"237.65\" y=\"-407.63\" font-family=\"Helvetica,sans-Serif\" font-size=\"14.00\">True</text>\n",
       "</g>\n",
       "<!-- 4 -->\n",
       "<g id=\"node5\" class=\"node\">\n",
       "<title>4</title>\n",
       "<polygon fill=\"#fef8f5\" stroke=\"black\" points=\"459.25,-387.5 306.75,-387.5 306.75,-313.5 459.25,-313.5 459.25,-387.5\"/>\n",
       "<text text-anchor=\"middle\" x=\"383\" y=\"-370.2\" font-family=\"Helvetica,sans-Serif\" font-size=\"14.00\">color_score &lt;= 0.743</text>\n",
       "<text text-anchor=\"middle\" x=\"383\" y=\"-353.7\" font-family=\"Helvetica,sans-Serif\" font-size=\"14.00\">gini = 0.599</text>\n",
       "<text text-anchor=\"middle\" x=\"383\" y=\"-337.2\" font-family=\"Helvetica,sans-Serif\" font-size=\"14.00\">samples = 33</text>\n",
       "<text text-anchor=\"middle\" x=\"383\" y=\"-320.7\" font-family=\"Helvetica,sans-Serif\" font-size=\"14.00\">value = [15, 0, 14, 4]</text>\n",
       "</g>\n",
       "<!-- 0&#45;&gt;4 -->\n",
       "<g id=\"edge4\" class=\"edge\">\n",
       "<title>0&#45;&gt;4</title>\n",
       "<path fill=\"none\" stroke=\"black\" d=\"M325.88,-423.24C332.75,-414.6 340.17,-405.28 347.32,-396.31\"/>\n",
       "<polygon fill=\"black\" stroke=\"black\" points=\"350.56,-398.85 354.05,-388.85 345.09,-394.49 350.56,-398.85\"/>\n",
       "<text text-anchor=\"middle\" x=\"356.87\" y=\"-407.64\" font-family=\"Helvetica,sans-Serif\" font-size=\"14.00\">False</text>\n",
       "</g>\n",
       "<!-- 2 -->\n",
       "<g id=\"node3\" class=\"node\">\n",
       "<title>2</title>\n",
       "<polygon fill=\"#d739e5\" stroke=\"black\" points=\"136,-269.25 0,-269.25 0,-211.75 136,-211.75 136,-269.25\"/>\n",
       "<text text-anchor=\"middle\" x=\"68\" y=\"-251.95\" font-family=\"Helvetica,sans-Serif\" font-size=\"14.00\">gini = 0.0</text>\n",
       "<text text-anchor=\"middle\" x=\"68\" y=\"-235.45\" font-family=\"Helvetica,sans-Serif\" font-size=\"14.00\">samples = 10</text>\n",
       "<text text-anchor=\"middle\" x=\"68\" y=\"-218.95\" font-family=\"Helvetica,sans-Serif\" font-size=\"14.00\">value = [0, 0, 0, 10]</text>\n",
       "</g>\n",
       "<!-- 1&#45;&gt;2 -->\n",
       "<g id=\"edge2\" class=\"edge\">\n",
       "<title>1&#45;&gt;2</title>\n",
       "<path fill=\"none\" stroke=\"black\" d=\"M163.65,-313.24C147.66,-301.24 129.91,-287.93 114.09,-276.07\"/>\n",
       "<polygon fill=\"black\" stroke=\"black\" points=\"116.62,-272.84 106.52,-269.64 112.42,-278.44 116.62,-272.84\"/>\n",
       "</g>\n",
       "<!-- 3 -->\n",
       "<g id=\"node4\" class=\"node\">\n",
       "<title>3</title>\n",
       "<polygon fill=\"#47e539\" stroke=\"black\" points=\"281.88,-269.25 154.12,-269.25 154.12,-211.75 281.88,-211.75 281.88,-269.25\"/>\n",
       "<text text-anchor=\"middle\" x=\"218\" y=\"-251.95\" font-family=\"Helvetica,sans-Serif\" font-size=\"14.00\">gini = 0.0</text>\n",
       "<text text-anchor=\"middle\" x=\"218\" y=\"-235.45\" font-family=\"Helvetica,sans-Serif\" font-size=\"14.00\">samples = 4</text>\n",
       "<text text-anchor=\"middle\" x=\"218\" y=\"-218.95\" font-family=\"Helvetica,sans-Serif\" font-size=\"14.00\">value = [0, 4, 0, 0]</text>\n",
       "</g>\n",
       "<!-- 1&#45;&gt;3 -->\n",
       "<g id=\"edge3\" class=\"edge\">\n",
       "<title>1&#45;&gt;3</title>\n",
       "<path fill=\"none\" stroke=\"black\" d=\"M214.01,-313.24C214.6,-302.69 215.24,-291.12 215.84,-280.41\"/>\n",
       "<polygon fill=\"black\" stroke=\"black\" points=\"219.38,-280.82 216.44,-270.64 212.39,-280.43 219.38,-280.82\"/>\n",
       "</g>\n",
       "<!-- 5 -->\n",
       "<g id=\"node6\" class=\"node\">\n",
       "<title>5</title>\n",
       "<polygon fill=\"#b2d9f5\" stroke=\"black\" points=\"446,-277.5 310,-277.5 310,-203.5 446,-203.5 446,-277.5\"/>\n",
       "<text text-anchor=\"middle\" x=\"378\" y=\"-260.2\" font-family=\"Helvetica,sans-Serif\" font-size=\"14.00\">color_score &lt;= 0.5</text>\n",
       "<text text-anchor=\"middle\" x=\"378\" y=\"-243.7\" font-family=\"Helvetica,sans-Serif\" font-size=\"14.00\">gini = 0.582</text>\n",
       "<text text-anchor=\"middle\" x=\"378\" y=\"-227.2\" font-family=\"Helvetica,sans-Serif\" font-size=\"14.00\">samples = 25</text>\n",
       "<text text-anchor=\"middle\" x=\"378\" y=\"-210.7\" font-family=\"Helvetica,sans-Serif\" font-size=\"14.00\">value = [7, 0, 14, 4]</text>\n",
       "</g>\n",
       "<!-- 4&#45;&gt;5 -->\n",
       "<g id=\"edge5\" class=\"edge\">\n",
       "<title>4&#45;&gt;5</title>\n",
       "<path fill=\"none\" stroke=\"black\" d=\"M381.32,-313.24C380.96,-305.4 380.57,-297 380.19,-288.82\"/>\n",
       "<polygon fill=\"black\" stroke=\"black\" points=\"383.64,-288.68 379.68,-278.85 376.65,-289 383.64,-288.68\"/>\n",
       "</g>\n",
       "<!-- 10 -->\n",
       "<g id=\"node11\" class=\"node\">\n",
       "<title>10</title>\n",
       "<polygon fill=\"#e58139\" stroke=\"black\" points=\"591.88,-269.25 464.12,-269.25 464.12,-211.75 591.88,-211.75 591.88,-269.25\"/>\n",
       "<text text-anchor=\"middle\" x=\"528\" y=\"-251.95\" font-family=\"Helvetica,sans-Serif\" font-size=\"14.00\">gini = 0.0</text>\n",
       "<text text-anchor=\"middle\" x=\"528\" y=\"-235.45\" font-family=\"Helvetica,sans-Serif\" font-size=\"14.00\">samples = 8</text>\n",
       "<text text-anchor=\"middle\" x=\"528\" y=\"-218.95\" font-family=\"Helvetica,sans-Serif\" font-size=\"14.00\">value = [8, 0, 0, 0]</text>\n",
       "</g>\n",
       "<!-- 4&#45;&gt;10 -->\n",
       "<g id=\"edge10\" class=\"edge\">\n",
       "<title>4&#45;&gt;10</title>\n",
       "<path fill=\"none\" stroke=\"black\" d=\"M431.69,-313.24C447.79,-301.24 465.66,-287.93 481.59,-276.07\"/>\n",
       "<polygon fill=\"black\" stroke=\"black\" points=\"483.29,-278.42 489.22,-269.64 479.11,-272.81 483.29,-278.42\"/>\n",
       "</g>\n",
       "<!-- 6 -->\n",
       "<g id=\"node7\" class=\"node\">\n",
       "<title>6</title>\n",
       "<polygon fill=\"#f4c9aa\" stroke=\"black\" points=\"366.88,-167.5 239.12,-167.5 239.12,-93.5 366.88,-93.5 366.88,-167.5\"/>\n",
       "<text text-anchor=\"middle\" x=\"303\" y=\"-150.2\" font-family=\"Helvetica,sans-Serif\" font-size=\"14.00\">height &lt;= 0.685</text>\n",
       "<text text-anchor=\"middle\" x=\"303\" y=\"-133.7\" font-family=\"Helvetica,sans-Serif\" font-size=\"14.00\">gini = 0.463</text>\n",
       "<text text-anchor=\"middle\" x=\"303\" y=\"-117.2\" font-family=\"Helvetica,sans-Serif\" font-size=\"14.00\">samples = 11</text>\n",
       "<text text-anchor=\"middle\" x=\"303\" y=\"-100.7\" font-family=\"Helvetica,sans-Serif\" font-size=\"14.00\">value = [7, 0, 0, 4]</text>\n",
       "</g>\n",
       "<!-- 5&#45;&gt;6 -->\n",
       "<g id=\"edge6\" class=\"edge\">\n",
       "<title>5&#45;&gt;6</title>\n",
       "<path fill=\"none\" stroke=\"black\" d=\"M352.82,-203.24C346.94,-194.78 340.61,-185.66 334.5,-176.87\"/>\n",
       "<polygon fill=\"black\" stroke=\"black\" points=\"336.82,-175.07 328.24,-168.85 331.07,-179.06 336.82,-175.07\"/>\n",
       "</g>\n",
       "<!-- 9 -->\n",
       "<g id=\"node10\" class=\"node\">\n",
       "<title>9</title>\n",
       "<polygon fill=\"#399de5\" stroke=\"black\" points=\"521,-159.25 385,-159.25 385,-101.75 521,-101.75 521,-159.25\"/>\n",
       "<text text-anchor=\"middle\" x=\"453\" y=\"-141.95\" font-family=\"Helvetica,sans-Serif\" font-size=\"14.00\">gini = 0.0</text>\n",
       "<text text-anchor=\"middle\" x=\"453\" y=\"-125.45\" font-family=\"Helvetica,sans-Serif\" font-size=\"14.00\">samples = 14</text>\n",
       "<text text-anchor=\"middle\" x=\"453\" y=\"-108.95\" font-family=\"Helvetica,sans-Serif\" font-size=\"14.00\">value = [0, 0, 14, 0]</text>\n",
       "</g>\n",
       "<!-- 5&#45;&gt;9 -->\n",
       "<g id=\"edge9\" class=\"edge\">\n",
       "<title>5&#45;&gt;9</title>\n",
       "<path fill=\"none\" stroke=\"black\" d=\"M403.18,-203.24C410.97,-192.02 419.56,-179.65 427.38,-168.39\"/>\n",
       "<polygon fill=\"black\" stroke=\"black\" points=\"430.63,-170.85 433.46,-160.64 424.88,-166.86 430.63,-170.85\"/>\n",
       "</g>\n",
       "<!-- 7 -->\n",
       "<g id=\"node8\" class=\"node\">\n",
       "<title>7</title>\n",
       "<polygon fill=\"#e58139\" stroke=\"black\" points=\"293.88,-57.5 166.12,-57.5 166.12,0 293.88,0 293.88,-57.5\"/>\n",
       "<text text-anchor=\"middle\" x=\"230\" y=\"-40.2\" font-family=\"Helvetica,sans-Serif\" font-size=\"14.00\">gini = 0.0</text>\n",
       "<text text-anchor=\"middle\" x=\"230\" y=\"-23.7\" font-family=\"Helvetica,sans-Serif\" font-size=\"14.00\">samples = 7</text>\n",
       "<text text-anchor=\"middle\" x=\"230\" y=\"-7.2\" font-family=\"Helvetica,sans-Serif\" font-size=\"14.00\">value = [7, 0, 0, 0]</text>\n",
       "</g>\n",
       "<!-- 6&#45;&gt;7 -->\n",
       "<g id=\"edge7\" class=\"edge\">\n",
       "<title>6&#45;&gt;7</title>\n",
       "<path fill=\"none\" stroke=\"black\" d=\"M276.44,-93.21C270.08,-84.52 263.3,-75.25 256.93,-66.54\"/>\n",
       "<polygon fill=\"black\" stroke=\"black\" points=\"259.21,-64.73 250.47,-58.73 253.56,-68.86 259.21,-64.73\"/>\n",
       "</g>\n",
       "<!-- 8 -->\n",
       "<g id=\"node9\" class=\"node\">\n",
       "<title>8</title>\n",
       "<polygon fill=\"#d739e5\" stroke=\"black\" points=\"439.88,-57.5 312.12,-57.5 312.12,0 439.88,0 439.88,-57.5\"/>\n",
       "<text text-anchor=\"middle\" x=\"376\" y=\"-40.2\" font-family=\"Helvetica,sans-Serif\" font-size=\"14.00\">gini = 0.0</text>\n",
       "<text text-anchor=\"middle\" x=\"376\" y=\"-23.7\" font-family=\"Helvetica,sans-Serif\" font-size=\"14.00\">samples = 4</text>\n",
       "<text text-anchor=\"middle\" x=\"376\" y=\"-7.2\" font-family=\"Helvetica,sans-Serif\" font-size=\"14.00\">value = [0, 0, 0, 4]</text>\n",
       "</g>\n",
       "<!-- 6&#45;&gt;8 -->\n",
       "<g id=\"edge8\" class=\"edge\">\n",
       "<title>6&#45;&gt;8</title>\n",
       "<path fill=\"none\" stroke=\"black\" d=\"M329.56,-93.21C335.92,-84.52 342.7,-75.25 349.07,-66.54\"/>\n",
       "<polygon fill=\"black\" stroke=\"black\" points=\"352.44,-68.86 355.53,-58.73 346.79,-64.73 352.44,-68.86\"/>\n",
       "</g>\n",
       "</g>\n",
       "</svg>\n"
      ],
      "text/plain": [
       "<graphviz.sources.Source at 0x1ca6c544310>"
      ]
     },
     "execution_count": 48,
     "metadata": {},
     "output_type": "execute_result"
    }
   ],
   "source": [
    "import graphviz\n",
    "dot_data = tree.export_graphviz(clf, out_file = None, feature_names = feature_names, class_names = None , filled = True )\n",
    "graph = graphviz.Source(dot_data, format = \"png\")\n",
    "graph"
   ]
  },
  {
   "cell_type": "code",
   "execution_count": 49,
   "id": "07847f18",
   "metadata": {
    "collapsed": true
   },
   "outputs": [
    {
     "ename": "ImportError",
     "evalue": "cannot import name 'dtreeviz' from 'dtreeviz.trees' (C:\\Users\\USER\\AppData\\Local\\Programs\\Python\\Python310\\lib\\site-packages\\dtreeviz\\trees.py)",
     "output_type": "error",
     "traceback": [
      "\u001b[1;31m---------------------------------------------------------------------------\u001b[0m",
      "\u001b[1;31mImportError\u001b[0m                               Traceback (most recent call last)",
      "Input \u001b[1;32mIn [49]\u001b[0m, in \u001b[0;36m<cell line: 1>\u001b[1;34m()\u001b[0m\n\u001b[1;32m----> 1\u001b[0m \u001b[38;5;28;01mfrom\u001b[39;00m \u001b[38;5;21;01mdtreeviz\u001b[39;00m\u001b[38;5;21;01m.\u001b[39;00m\u001b[38;5;21;01mtrees\u001b[39;00m \u001b[38;5;28;01mimport\u001b[39;00m dtreeviz\n\u001b[0;32m      3\u001b[0m viz \u001b[38;5;241m=\u001b[39m dtreeviz(clf, A, B,\n\u001b[0;32m      4\u001b[0m                 target_name\u001b[38;5;241m=\u001b[39m data[\u001b[38;5;124m'\u001b[39m\u001b[38;5;124mfruit_label\u001b[39m\u001b[38;5;124m'\u001b[39m],\n\u001b[0;32m      5\u001b[0m                 feature_names\u001b[38;5;241m=\u001b[39m feature,\n\u001b[0;32m      6\u001b[0m                 class_names\u001b[38;5;241m=\u001b[39m\u001b[38;5;28mlist\u001b[39m(data[\u001b[38;5;124m'\u001b[39m\u001b[38;5;124mfruit_label\u001b[39m\u001b[38;5;124m'\u001b[39m]))\n\u001b[0;32m      7\u001b[0m viz\n",
      "\u001b[1;31mImportError\u001b[0m: cannot import name 'dtreeviz' from 'dtreeviz.trees' (C:\\Users\\USER\\AppData\\Local\\Programs\\Python\\Python310\\lib\\site-packages\\dtreeviz\\trees.py)"
     ]
    }
   ],
   "source": [
    "#from dtreeviz.trees import dtreeviz\n",
    "\n",
    "#viz = dtreeviz(clf, A, B,\n",
    "               # target_name= data['fruit_label'],\n",
    "                #feature_names= feature,\n",
    "                #class_names=list(data['fruit_label']))\n",
    "#viz"
   ]
  },
  {
   "cell_type": "markdown",
   "id": "efcf84b9",
   "metadata": {},
   "source": [
    "### After checking the predicted and the original label with 30 values, we can see that this model fits well"
   ]
  },
  {
   "cell_type": "markdown",
   "id": "150e5daa",
   "metadata": {},
   "source": [
    "#### Using RAndomForestClassifier\n"
   ]
  },
  {
   "cell_type": "code",
   "execution_count": 48,
   "id": "6ac774b6",
   "metadata": {
    "scrolled": true
   },
   "outputs": [
    {
     "name": "stdout",
     "output_type": "stream",
     "text": [
      "Accuracy of Random Forest classifier on training set: 0.91\n",
      "Accuracy of Random Forest classifier on test set: 0.75\n",
      "Accuracy of Random Forest classifier on training set: 0.96\n",
      "Accuracy of Random Forest classifier on test set: 0.83\n",
      "Accuracy of Random Forest classifier on training set: 0.98\n",
      "Accuracy of Random Forest classifier on test set: 0.83\n",
      "Accuracy of Random Forest classifier on training set: 1.00\n",
      "Accuracy of Random Forest classifier on test set: 0.75\n",
      "Accuracy of Random Forest classifier on training set: 1.00\n",
      "Accuracy of Random Forest classifier on test set: 0.83\n"
     ]
    }
   ],
   "source": [
    "for k in range(1, 6):\n",
    "    rfc = RandomForestClassifier(n_estimators = k, random_state = 0)\n",
    "    model_rfc = rfc.fit(A_train, B_train)\n",
    "    \n",
    "    print('Accuracy of Random Forest classifier on training set: {:.2f}'\n",
    "     .format(model_rfc.score(A_train, B_train)))\n",
    "    print('Accuracy of Random Forest classifier on test set: {:.2f}'\n",
    "     .format(model_rfc.score(A_test, B_test)))"
   ]
  },
  {
   "cell_type": "code",
   "execution_count": 49,
   "id": "eda1b352",
   "metadata": {},
   "outputs": [
    {
     "name": "stdout",
     "output_type": "stream",
     "text": [
      "first 20 prdicted:  [3 3 3 3 4 2 1 3 4 3 3 4 1 4 3 1 2 3 1 4 1 4 1 1 3 1 4 4 4 3]\n",
      "\n",
      "first 20 Original:  [3 3 3 3 4 2 1 3 4 3 3 4 1 4 3 1 2 3 1 4 1 4 1 1 3 1 4 4 4 3]\n"
     ]
    }
   ],
   "source": [
    "pred_train = model_rfc.predict(A_train)\n",
    "print('first 20 prdicted: ', pred_train[:30])\n",
    "print()\n",
    "print('first 20 Original: ', B_train[:30].values)"
   ]
  },
  {
   "cell_type": "markdown",
   "id": "d03fb001",
   "metadata": {},
   "source": [
    "#### This model also fits well after comparing the predicted and original target values"
   ]
  },
  {
   "cell_type": "markdown",
   "id": "3c79cee0",
   "metadata": {},
   "source": [
    "#### Using Gaussian Naive Bayes"
   ]
  },
  {
   "cell_type": "code",
   "execution_count": 50,
   "id": "1bd872e2",
   "metadata": {},
   "outputs": [
    {
     "name": "stdout",
     "output_type": "stream",
     "text": [
      "Accuracy of GNB classifier on training set: 0.85\n",
      "Accuracy of GNB classifier on test set: 0.83\n"
     ]
    }
   ],
   "source": [
    "from sklearn.naive_bayes import GaussianNB\n",
    "\n",
    "gnb = GaussianNB()\n",
    "model_gnb = gnb.fit(A_train, B_train)\n",
    "print('Accuracy of GNB classifier on training set: {:.2f}'\n",
    "     .format(model_gnb.score(A_train, B_train)))\n",
    "print('Accuracy of GNB classifier on test set: {:.2f}'\n",
    "     .format(model_gnb.score(A_test, B_test)))"
   ]
  },
  {
   "cell_type": "code",
   "execution_count": 51,
   "id": "9dac9952",
   "metadata": {},
   "outputs": [
    {
     "name": "stdout",
     "output_type": "stream",
     "text": [
      "first 20 prdicted:  [1 3 3 1 4 2 1 1 4 1 1 4 1 4 3 1 2 3 1 4 1 4 1 1 3 1 4 4 4 1]\n",
      "\n",
      "first 20 Original:  [3 3 3 3 4 2 1 3 4 3 3 4 1 4 3 1 2 3 1 4 1 4 1 1 3 1 4 4 4 3]\n"
     ]
    }
   ],
   "source": [
    "pred_train = model_gnb.predict(A_train)\n",
    "print('first 20 prdicted: ', pred_train[:30])\n",
    "print()\n",
    "print('first 20 Original: ', B_train[:30].values)"
   ]
  },
  {
   "cell_type": "code",
   "execution_count": 52,
   "id": "e252bbdf",
   "metadata": {
    "scrolled": true
   },
   "outputs": [
    {
     "name": "stdout",
     "output_type": "stream",
     "text": [
      "confusion_matrix\n",
      "               precision    recall  f1-score   support\n",
      "\n",
      "           1       1.00      1.00      1.00         4\n",
      "           2       1.00      1.00      1.00         1\n",
      "           3       1.00      1.00      1.00         5\n",
      "           4       1.00      1.00      1.00         2\n",
      "\n",
      "    accuracy                           1.00        12\n",
      "   macro avg       1.00      1.00      1.00        12\n",
      "weighted avg       1.00      1.00      1.00        12\n",
      "\n"
     ]
    }
   ],
   "source": [
    "from sklearn.metrics import confusion_matrix, classification_report\n",
    "pred = svm.predict(A_test)\n",
    "conf_m = classification_report(B_test, pred)\n",
    "print('confusion_matrix\\n', conf_m)"
   ]
  },
  {
   "cell_type": "code",
   "execution_count": null,
   "id": "b07472b8",
   "metadata": {},
   "outputs": [],
   "source": []
  }
 ],
 "metadata": {
  "kernelspec": {
   "display_name": "Python 3 (ipykernel)",
   "language": "python",
   "name": "python3"
  },
  "language_info": {
   "codemirror_mode": {
    "name": "ipython",
    "version": 3
   },
   "file_extension": ".py",
   "mimetype": "text/x-python",
   "name": "python",
   "nbconvert_exporter": "python",
   "pygments_lexer": "ipython3",
   "version": "3.10.6"
  }
 },
 "nbformat": 4,
 "nbformat_minor": 5
}
