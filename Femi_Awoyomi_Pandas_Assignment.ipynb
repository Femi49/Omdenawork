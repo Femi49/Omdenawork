{
 "cells": [
  {
   "cell_type": "markdown",
   "metadata": {
    "id": "dblwOdF5wVhv"
   },
   "source": [
    "![](../docs/banner.png)"
   ]
  },
  {
   "cell_type": "markdown",
   "metadata": {
    "id": "goNAefIPwViJ"
   },
   "source": [
    "# Pandas\n"
   ]
  },
  {
   "cell_type": "markdown",
   "metadata": {
    "id": "nmjKQ4U7wViK"
   },
   "source": [
    "## Exercises"
   ]
  },
  {
   "cell_type": "markdown",
   "metadata": {
    "id": "S13xUNIqwViK"
   },
   "source": [
    "In this set of practice exercises we'll be investigating the carbon footprint of different foods. We'll be leveraging a dataset compiled by [Kasia Kulma](https://r-tastic.co.uk/post/from-messy-to-tidy/) and contributed to [R's Tidy Tuesday project](https://github.com/rfordatascience/tidytuesday).\n",
    "\n",
    "Start by importing pandas with the alias `pd`."
   ]
  },
  {
   "cell_type": "code",
   "execution_count": 2,
   "metadata": {
    "id": "A8nHeZhMwViK"
   },
   "outputs": [],
   "source": [
    "# Your answer here.\n",
    "import pandas as pd"
   ]
  },
  {
   "cell_type": "markdown",
   "metadata": {
    "id": "J5JLaaFfwViL"
   },
   "source": [
    "### 2."
   ]
  },
  {
   "cell_type": "markdown",
   "metadata": {
    "id": "26iKDHl2wViL"
   },
   "source": [
    "The dataset we'll be working with has the following columns:\n",
    "\n",
    "|column      |description |\n",
    "|:-------------|:-----------|\n",
    "|country       | Country Name |\n",
    "|food_category | Food Category |\n",
    "|consumption   | Consumption (kg/person/year) |\n",
    "|co2_emmission | Co2 Emission (Kg CO2/person/year) |\n",
    "\n",
    "\n",
    "Import the dataset as a dataframe named `df` from this url: <https://raw.githubusercontent.com/rfordatascience/tidytuesday/master/data/2020/2020-02-18/food_consumption.csv>"
   ]
  },
  {
   "cell_type": "code",
   "execution_count": 5,
   "metadata": {
    "id": "8gVcwhCtwViM"
   },
   "outputs": [
    {
     "data": {
      "text/html": [
       "<div>\n",
       "<style scoped>\n",
       "    .dataframe tbody tr th:only-of-type {\n",
       "        vertical-align: middle;\n",
       "    }\n",
       "\n",
       "    .dataframe tbody tr th {\n",
       "        vertical-align: top;\n",
       "    }\n",
       "\n",
       "    .dataframe thead th {\n",
       "        text-align: right;\n",
       "    }\n",
       "</style>\n",
       "<table border=\"1\" class=\"dataframe\">\n",
       "  <thead>\n",
       "    <tr style=\"text-align: right;\">\n",
       "      <th></th>\n",
       "      <th>country</th>\n",
       "      <th>food_category</th>\n",
       "      <th>consumption</th>\n",
       "      <th>co2_emmission</th>\n",
       "    </tr>\n",
       "  </thead>\n",
       "  <tbody>\n",
       "    <tr>\n",
       "      <th>0</th>\n",
       "      <td>Argentina</td>\n",
       "      <td>Pork</td>\n",
       "      <td>10.51</td>\n",
       "      <td>37.20</td>\n",
       "    </tr>\n",
       "    <tr>\n",
       "      <th>1</th>\n",
       "      <td>Argentina</td>\n",
       "      <td>Poultry</td>\n",
       "      <td>38.66</td>\n",
       "      <td>41.53</td>\n",
       "    </tr>\n",
       "    <tr>\n",
       "      <th>2</th>\n",
       "      <td>Argentina</td>\n",
       "      <td>Beef</td>\n",
       "      <td>55.48</td>\n",
       "      <td>1712.00</td>\n",
       "    </tr>\n",
       "    <tr>\n",
       "      <th>3</th>\n",
       "      <td>Argentina</td>\n",
       "      <td>Lamb &amp; Goat</td>\n",
       "      <td>1.56</td>\n",
       "      <td>54.63</td>\n",
       "    </tr>\n",
       "    <tr>\n",
       "      <th>4</th>\n",
       "      <td>Argentina</td>\n",
       "      <td>Fish</td>\n",
       "      <td>4.36</td>\n",
       "      <td>6.96</td>\n",
       "    </tr>\n",
       "  </tbody>\n",
       "</table>\n",
       "</div>"
      ],
      "text/plain": [
       "     country food_category  consumption  co2_emmission\n",
       "0  Argentina          Pork        10.51          37.20\n",
       "1  Argentina       Poultry        38.66          41.53\n",
       "2  Argentina          Beef        55.48        1712.00\n",
       "3  Argentina   Lamb & Goat         1.56          54.63\n",
       "4  Argentina          Fish         4.36           6.96"
      ]
     },
     "execution_count": 5,
     "metadata": {},
     "output_type": "execute_result"
    }
   ],
   "source": [
    "# Your answer here.\n",
    "url = 'https://raw.githubusercontent.com/rfordatascience/tidytuesday/master/data/2020/2020-02-18/food_consumption.csv'\n",
    "df = pd.read_csv(url)\n",
    "df.head(5)"
   ]
  },
  {
   "cell_type": "markdown",
   "metadata": {
    "id": "ssCqr0y6wViM"
   },
   "source": [
    "### 3."
   ]
  },
  {
   "cell_type": "markdown",
   "metadata": {
    "id": "xESnrMwnwViM"
   },
   "source": [
    "How many rows and columns are there in the dataframe?"
   ]
  },
  {
   "cell_type": "code",
   "execution_count": 30,
   "metadata": {
    "id": "U66otghVwViM"
   },
   "outputs": [
    {
     "name": "stdout",
     "output_type": "stream",
     "text": [
      "rows:  1430\n",
      "coumns is:  4\n"
     ]
    }
   ],
   "source": [
    "# Your answer here.\n",
    "#data.shape or \n",
    "\n",
    "df_rows = df.shape[0]\n",
    "df_columns = df.shape[1]\n",
    "\n",
    "print('rows: ', df_rows)\n",
    "print('coumns is: ', df_columns)"
   ]
  },
  {
   "cell_type": "markdown",
   "metadata": {
    "id": "10Y6LSI4wViN"
   },
   "source": [
    "### 4."
   ]
  },
  {
   "cell_type": "markdown",
   "metadata": {
    "id": "PStjRaw9wViN"
   },
   "source": [
    "What is the type of data in each column of `df`?"
   ]
  },
  {
   "cell_type": "code",
   "execution_count": 4,
   "metadata": {
    "id": "ZwQlqwnVwViN"
   },
   "outputs": [
    {
     "data": {
      "text/plain": [
       "country           object\n",
       "food_category     object\n",
       "consumption      float64\n",
       "co2_emmission    float64\n",
       "dtype: object"
      ]
     },
     "execution_count": 4,
     "metadata": {},
     "output_type": "execute_result"
    }
   ],
   "source": [
    "# Your answer here.\n",
    "df.dtypes"
   ]
  },
  {
   "cell_type": "markdown",
   "metadata": {
    "id": "O0XLxHk-wViN"
   },
   "source": [
    "### 5."
   ]
  },
  {
   "cell_type": "markdown",
   "metadata": {
    "id": "EhydBFTwwViN"
   },
   "source": [
    "What is the mean `co2_emission` of the whole dataset?"
   ]
  },
  {
   "cell_type": "code",
   "execution_count": 5,
   "metadata": {
    "id": "7gWrG1uwwViN"
   },
   "outputs": [
    {
     "name": "stdout",
     "output_type": "stream",
     "text": [
      "The mean co2_emission of the whole dataset is:  74.383993006993\n"
     ]
    }
   ],
   "source": [
    "# Your answer here.\n",
    "mean_co2_emmission = df['co2_emmission'].mean()\n",
    "print('The mean co2_emission of the whole dataset is: ', mean_co2_emmission)"
   ]
  },
  {
   "cell_type": "markdown",
   "metadata": {
    "id": "OVKr875ewViN"
   },
   "source": [
    "### 6."
   ]
  },
  {
   "cell_type": "markdown",
   "metadata": {
    "id": "n469svJiwViN"
   },
   "source": [
    "How many different kinds of foods are there in the dataset? How many countries are in the dataset?"
   ]
  },
  {
   "cell_type": "code",
   "execution_count": 6,
   "metadata": {
    "id": "EmADNPalwViN"
   },
   "outputs": [
    {
     "name": "stdout",
     "output_type": "stream",
     "text": [
      "['Pork' 'Poultry' 'Beef' 'Lamb & Goat' 'Fish' 'Eggs' 'Milk - inc. cheese'\n",
      " 'Wheat and Wheat Products' 'Rice' 'Soybeans' 'Nuts inc. Peanut Butter']\n",
      "\n",
      "We have 11  kinds of foods in the dataset\n"
     ]
    }
   ],
   "source": [
    "# Your answer here.\n",
    "unique_kinds =df['food_category'].unique()\n",
    "print(unique_kinds)\n",
    "print()\n",
    "num_unique_kinds = len(unique_kinds)\n",
    "print('We have', num_unique_kinds, ' kinds of foods in the dataset')\n"
   ]
  },
  {
   "cell_type": "code",
   "execution_count": 7,
   "metadata": {},
   "outputs": [
    {
     "name": "stdout",
     "output_type": "stream",
     "text": [
      "['Argentina' 'Australia' 'Albania' 'Iceland' 'New Zealand' 'USA' 'Uruguay'\n",
      " 'Luxembourg' 'Brazil' 'Kazakhstan' 'Sweden' 'Bermuda' 'Denmark' 'Finland'\n",
      " 'Ireland' 'Greece' 'France' 'Canada' 'Norway' 'Hong Kong SAR. China'\n",
      " 'French Polynesia' 'Israel' 'Switzerland' 'Netherlands' 'Kuwait'\n",
      " 'United Kingdom' 'Austria' 'Oman' 'Italy' 'Bahamas' 'Portugal' 'Malta'\n",
      " 'Armenia' 'Slovenia' 'Chile' 'Venezuela' 'Belgium' 'Germany' 'Russia'\n",
      " 'Croatia' 'Belarus' 'Spain' 'Paraguay' 'New Caledonia' 'South Africa'\n",
      " 'Barbados' 'Lithuania' 'Turkey' 'Estonia' 'Mexico' 'Costa Rica' 'Bolivia'\n",
      " 'Ecuador' 'Panama' 'Czech Republic' 'Romania' 'Colombia' 'Maldives'\n",
      " 'Cyprus' 'Serbia' 'United Arab Emirates' 'Algeria' 'Ukraine' 'Pakistan'\n",
      " 'Swaziland' 'Latvia' 'Bosnia and Herzegovina' 'Fiji' 'South Korea'\n",
      " 'Poland' 'Saudi Arabia' 'Botswana' 'Macedonia' 'Hungary'\n",
      " 'Trinidad and Tobago' 'Tunisia' 'Egypt' 'Mauritius' 'Bulgaria' 'Morocco'\n",
      " 'Slovakia' 'Niger' 'Kenya' 'Jordan' 'Japan' 'Georgia' 'Grenada'\n",
      " 'El Salvador' 'Cuba' 'China' 'Honduras' 'Taiwan. ROC' 'Angola' 'Jamaica'\n",
      " 'Namibia' 'Belize' 'Malaysia' 'Zimbabwe' 'Guatemala' 'Uganda' 'Nepal'\n",
      " 'Iran' 'Tanzania' 'Senegal' 'Peru' 'Nicaragua' 'Vietnam' 'Ethiopia'\n",
      " 'Myanmar' 'Congo' 'Zambia' 'Cameroon' 'Madagascar' 'Malawi' 'Guinea'\n",
      " 'Nigeria' 'Rwanda' 'Philippines' 'Ghana' 'Togo' 'Gambia' 'India'\n",
      " 'Thailand' 'Mozambique' 'Cambodia' 'Sierra Leone' 'Sri Lanka' 'Indonesia'\n",
      " 'Liberia' 'Bangladesh']\n",
      "\n",
      "We have  130 different countries in the dataset\n"
     ]
    }
   ],
   "source": [
    "#Your answer here\n",
    "unique_country = df['country'].unique()\n",
    "print(unique_country)\n",
    "print()\n",
    "num_unique_country = len(unique_country)\n",
    "print('We have ', num_unique_country, 'different countries in the dataset')"
   ]
  },
  {
   "cell_type": "markdown",
   "metadata": {
    "id": "-EArTC35wViO"
   },
   "source": [
    "### 7."
   ]
  },
  {
   "cell_type": "markdown",
   "metadata": {
    "id": "aZn2P9WswViO"
   },
   "source": [
    "What is the maximum `co2_emmission` in the dataset and which food type and country does it belong to?"
   ]
  },
  {
   "cell_type": "code",
   "execution_count": 8,
   "metadata": {
    "id": "Xh6VXJmZwViO"
   },
   "outputs": [
    {
     "name": "stdout",
     "output_type": "stream",
     "text": [
      "co2_emmission                      1712.0\n",
      "country                          Zimbabwe\n",
      "food_category    Wheat and Wheat Products\n",
      "dtype: object\n"
     ]
    }
   ],
   "source": [
    "# Your answer here.\n",
    "df.head(4)\n",
    "find_max = df[['co2_emmission', 'country', 'food_category']].max()\n",
    "print(find_max)"
   ]
  },
  {
   "cell_type": "markdown",
   "metadata": {
    "id": "e4IaSrt7wViO"
   },
   "source": [
    "### 8."
   ]
  },
  {
   "cell_type": "markdown",
   "metadata": {
    "id": "jFQSmdnmwViO"
   },
   "source": [
    "How many countries produce more than 1000 Kg CO2/person/year for at least one food type?"
   ]
  },
  {
   "cell_type": "code",
   "execution_count": 17,
   "metadata": {
    "id": "_apbzwt-wViO"
   },
   "outputs": [
    {
     "name": "stdout",
     "output_type": "stream",
     "text": [
      "5 countries produced more than 1000kg/CO2/person/year for at least on food type\n"
     ]
    }
   ],
   "source": [
    "# Your answer here.\n",
    "#let us start by grouping the country data\n",
    "\n",
    "df_group = df[df['co2_emmission'] > 1000]\n",
    "compare = df_group['country'].nunique()\n",
    "\n",
    "\n",
    "print(compare, 'countries produced more than 1000kg/CO2/person/year for at least on food type')"
   ]
  },
  {
   "cell_type": "markdown",
   "metadata": {
    "id": "wDhKwN33wViO"
   },
   "source": [
    "### 9."
   ]
  },
  {
   "cell_type": "markdown",
   "metadata": {
    "id": "n3DtYP66wViO"
   },
   "source": [
    "Which country consumes the least amount of beef per person per year?"
   ]
  },
  {
   "cell_type": "code",
   "execution_count": 21,
   "metadata": {
    "id": "8ikla_55wViO"
   },
   "outputs": [
    {
     "data": {
      "text/html": [
       "<div>\n",
       "<style scoped>\n",
       "    .dataframe tbody tr th:only-of-type {\n",
       "        vertical-align: middle;\n",
       "    }\n",
       "\n",
       "    .dataframe tbody tr th {\n",
       "        vertical-align: top;\n",
       "    }\n",
       "\n",
       "    .dataframe thead th {\n",
       "        text-align: right;\n",
       "    }\n",
       "</style>\n",
       "<table border=\"1\" class=\"dataframe\">\n",
       "  <thead>\n",
       "    <tr style=\"text-align: right;\">\n",
       "      <th></th>\n",
       "      <th>country</th>\n",
       "      <th>food_category</th>\n",
       "      <th>consumption</th>\n",
       "      <th>co2_emmission</th>\n",
       "    </tr>\n",
       "  </thead>\n",
       "  <tbody>\n",
       "    <tr>\n",
       "      <th>1410</th>\n",
       "      <td>Liberia</td>\n",
       "      <td>Beef</td>\n",
       "      <td>0.78</td>\n",
       "      <td>24.07</td>\n",
       "    </tr>\n",
       "    <tr>\n",
       "      <th>1333</th>\n",
       "      <td>India</td>\n",
       "      <td>Beef</td>\n",
       "      <td>0.81</td>\n",
       "      <td>24.99</td>\n",
       "    </tr>\n",
       "  </tbody>\n",
       "</table>\n",
       "</div>"
      ],
      "text/plain": [
       "      country food_category  consumption  co2_emmission\n",
       "1410  Liberia          Beef         0.78          24.07\n",
       "1333    India          Beef         0.81          24.99"
      ]
     },
     "execution_count": 21,
     "metadata": {},
     "output_type": "execute_result"
    }
   ],
   "source": [
    "# Your answer here.\n",
    "df.query(\"food_category == 'Beef'\").sort_values(by = 'consumption').head(1)"
   ]
  },
  {
   "cell_type": "markdown",
   "metadata": {
    "id": "ALJEwzT6wViO"
   },
   "source": [
    "### 10."
   ]
  },
  {
   "cell_type": "markdown",
   "metadata": {
    "id": "grjIYF61wViO"
   },
   "source": [
    "Which country consumes the most amount of soybeans per person per year?"
   ]
  },
  {
   "cell_type": "code",
   "execution_count": 31,
   "metadata": {
    "id": "wAuAdLVZwViO"
   },
   "outputs": [
    {
     "name": "stdout",
     "output_type": "stream",
     "text": [
      "Taiwan. ROC consumes the most amount of soybeans\n"
     ]
    }
   ],
   "source": [
    "# Your answer here.\n",
    "df_soy = df[df['food_category'] == 'Soybeans']\n",
    "df_soya = df_soy.sort_values(by = 'consumption')\n",
    "sort = df_soya.iloc[-1]['country']\n",
    "print(sort, 'consumes the most amount of soybeans')"
   ]
  },
  {
   "cell_type": "markdown",
   "metadata": {
    "id": "Y3hwq2gUwViO"
   },
   "source": [
    "### 11."
   ]
  },
  {
   "cell_type": "markdown",
   "metadata": {
    "id": "1uijLfkWwViO"
   },
   "source": [
    "What is the total emissions of all the meat products (Pork, Poultry, Fish, Lamb & Goat, Beef) in the dataset combined?"
   ]
  },
  {
   "cell_type": "code",
   "execution_count": 23,
   "metadata": {
    "id": "l3kRf45lwViO"
   },
   "outputs": [
    {
     "name": "stdout",
     "output_type": "stream",
     "text": [
      "The total emissions of all the meat products is  74441.13\n"
     ]
    }
   ],
   "source": [
    "# Your answer here.\n",
    "df_emissions = df.groupby('food_category').sum()\n",
    "df_calc = df_emissions['co2_emmission'].iloc[[0, 3, 6, 7, 2]].sum()\n",
    "print('The total emissions of all the meat products is ', df_calc)"
   ]
  },
  {
   "cell_type": "markdown",
   "metadata": {
    "id": "eI012S08wViP"
   },
   "source": [
    "### 12."
   ]
  },
  {
   "cell_type": "markdown",
   "metadata": {
    "id": "WrcILWenwViP"
   },
   "source": [
    "What is the total emissions of all other (non-meat) products in the dataset combined?"
   ]
  },
  {
   "cell_type": "code",
   "execution_count": 29,
   "metadata": {
    "id": "BPuu9CAKwViP"
   },
   "outputs": [
    {
     "name": "stdout",
     "output_type": "stream",
     "text": [
      "Total emissions of all non meat products in the dataset is  31927.98\n"
     ]
    }
   ],
   "source": [
    "# Your answer here.\n",
    "df.head()\n",
    "df_nnmt = df.groupby('food_category').sum()\n",
    "df_nnmn = df_nnmt['co2_emmission'].iloc[[1,4,5,8,9, 10]].sum()\n",
    "print('Total emissions of all non meat products in the dataset is ', df_nnmn)"
   ]
  },
  {
   "cell_type": "code",
   "execution_count": null,
   "metadata": {},
   "outputs": [],
   "source": []
  }
 ],
 "metadata": {
  "colab": {
   "provenance": []
  },
  "kernelspec": {
   "display_name": "Python 3 (ipykernel)",
   "language": "python",
   "name": "python3"
  },
  "language_info": {
   "codemirror_mode": {
    "name": "ipython",
    "version": 3
   },
   "file_extension": ".py",
   "mimetype": "text/x-python",
   "name": "python",
   "nbconvert_exporter": "python",
   "pygments_lexer": "ipython3",
   "version": "3.10.6"
  }
 },
 "nbformat": 4,
 "nbformat_minor": 1
}
