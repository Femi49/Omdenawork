{
 "cells": [
  {
   "cell_type": "markdown",
   "metadata": {
    "id": "yROty7vii5bL"
   },
   "source": [
    "![](../docs/banner.png)"
   ]
  },
  {
   "cell_type": "markdown",
   "metadata": {
    "id": "fAnPms7mi5bO"
   },
   "source": [
    "# NumPy\n"
   ]
  },
  {
   "cell_type": "markdown",
   "metadata": {
    "id": "0QVY-L0ji5bP"
   },
   "source": [
    "## Exercises"
   ]
  },
  {
   "cell_type": "markdown",
   "metadata": {
    "id": "F2N_dOQzi5bQ"
   },
   "source": [
    "### 1."
   ]
  },
  {
   "cell_type": "markdown",
   "metadata": {
    "id": "W5LaXUU7i5bQ"
   },
   "source": [
    "Import numpy under the alias `np`."
   ]
  },
  {
   "cell_type": "code",
   "execution_count": 1,
   "metadata": {
    "id": "th7TOVFXi5bQ"
   },
   "outputs": [],
   "source": [
    "# Your answer here\n",
    "import numpy as np"
   ]
  },
  {
   "cell_type": "markdown",
   "metadata": {
    "id": "xhxgkOIei5bR"
   },
   "source": [
    "### 2."
   ]
  },
  {
   "cell_type": "markdown",
   "metadata": {
    "id": "VFHsEU-0i5bS"
   },
   "source": [
    "Create the following arrays:\n",
    "\n",
    "1. Create an array of 5 zeros.\n",
    "2. Create an array of 10 ones.\n",
    "3. Create an array of 5 3.141s.\n",
    "4. Create an array of the integers 1 to 20.\n",
    "5. Create a 5 x 5 matrix of ones with a dtype `int`."
   ]
  },
  {
   "cell_type": "code",
   "execution_count": 2,
   "metadata": {
    "id": "mEBaeHaAi5bT"
   },
   "outputs": [
    {
     "name": "stdout",
     "output_type": "stream",
     "text": [
      "5\n"
     ]
    }
   ],
   "source": [
    "# Your answer here.\n",
    "zeros = np.array([0, 0, 0, 0, 0])\n",
    "print(len((zeros)))"
   ]
  },
  {
   "cell_type": "code",
   "execution_count": 3,
   "metadata": {},
   "outputs": [
    {
     "name": "stdout",
     "output_type": "stream",
     "text": [
      "[1. 1. 1. 1. 1. 1. 1. 1. 1. 1.]\n"
     ]
    }
   ],
   "source": [
    "#Create an array of 10 ones\n",
    "ones = np.ones(10)\n",
    "print(ones)"
   ]
  },
  {
   "cell_type": "code",
   "execution_count": 4,
   "metadata": {},
   "outputs": [
    {
     "name": "stdout",
     "output_type": "stream",
     "text": [
      "[3.141 3.141 3.141 3.141 3.141]\n"
     ]
    }
   ],
   "source": [
    "#Create an array of 5 3.141s\n",
    "record = np.array([3.141, 3.141, 3.141, 3.141, 3.141])\n",
    "print(record)\n"
   ]
  },
  {
   "cell_type": "code",
   "execution_count": 5,
   "metadata": {},
   "outputs": [
    {
     "name": "stdout",
     "output_type": "stream",
     "text": [
      "<class 'numpy.ndarray'>\n",
      "[ 1  2  3  4  5  6  7  8  9 10 11 12 13 14 15 16 17 18 19 20]\n"
     ]
    },
    {
     "data": {
      "text/plain": [
       "dtype('int32')"
      ]
     },
     "execution_count": 5,
     "metadata": {},
     "output_type": "execute_result"
    }
   ],
   "source": [
    "#Create an array of the integers 1 to 20\n",
    "num1 = np.arange(1, 21)\n",
    "\n",
    "print(type((num1)))\n",
    "print(num1)\n",
    "num1.dtype"
   ]
  },
  {
   "cell_type": "code",
   "execution_count": 6,
   "metadata": {},
   "outputs": [
    {
     "name": "stdout",
     "output_type": "stream",
     "text": [
      "[[1 1 1 1 1]\n",
      " [1 1 1 1 1]\n",
      " [1 1 1 1 1]\n",
      " [1 1 1 1 1]\n",
      " [1 1 1 1 1]]\n"
     ]
    }
   ],
   "source": [
    "#Create a 5 x 5 matrix of ones with a dtype int\n",
    "\n",
    "matrix_5 = np.ones((5, 5), dtype=int)\n",
    "print(matrix_5)"
   ]
  },
  {
   "cell_type": "markdown",
   "metadata": {
    "id": "UBp5w3Sti5bU"
   },
   "source": [
    "### 3."
   ]
  },
  {
   "cell_type": "markdown",
   "metadata": {
    "id": "lF8XL653i5bV"
   },
   "source": [
    "Use numpy to:\n",
    "1. Create an 3D matrix of 3 x 3 x 3 full of random numbers drawn from a standard normal distribution (hint: `np.random.randn()`)\n",
    "2. Reshape the above array into shape (27,)"
   ]
  },
  {
   "cell_type": "code",
   "execution_count": 7,
   "metadata": {
    "id": "F55n76JPi5bV",
    "scrolled": true
   },
   "outputs": [
    {
     "name": "stdout",
     "output_type": "stream",
     "text": [
      "[[[ 3.35176754e-01 -6.66058446e-01 -7.58435456e-02]\n",
      "  [ 1.35549871e+00  2.27442986e+00  6.86086309e-01]\n",
      "  [-1.25631121e+00 -6.80071472e-01  6.30845969e-01]]\n",
      "\n",
      " [[-7.25743164e-02  4.71073639e-01 -8.75003398e-01]\n",
      "  [-1.25078703e-01 -8.36026499e-01  1.44442014e-03]\n",
      "  [ 1.80723028e+00  4.09500568e-01 -2.67644568e-01]]\n",
      "\n",
      " [[ 5.31508610e-01  3.40206980e-01  2.18661064e+00]\n",
      "  [ 7.22418401e-01 -1.28843495e+00 -2.62737621e+00]\n",
      "  [ 1.41857430e+00  2.98875018e-01  5.01406634e-01]]]\n"
     ]
    }
   ],
   "source": [
    "# Your answer here.\n",
    "#Create a 3D matrix of 3 x 3 x 3 full of random numbers drawn from a standard normal distribution\n",
    "matrix_3D = np.random.randn(3, 3, 3)\n",
    "print(matrix_3D)\n"
   ]
  },
  {
   "cell_type": "code",
   "execution_count": 8,
   "metadata": {},
   "outputs": [
    {
     "name": "stdout",
     "output_type": "stream",
     "text": [
      "[ 3.35176754e-01 -6.66058446e-01 -7.58435456e-02  1.35549871e+00\n",
      "  2.27442986e+00  6.86086309e-01 -1.25631121e+00 -6.80071472e-01\n",
      "  6.30845969e-01 -7.25743164e-02  4.71073639e-01 -8.75003398e-01\n",
      " -1.25078703e-01 -8.36026499e-01  1.44442014e-03  1.80723028e+00\n",
      "  4.09500568e-01 -2.67644568e-01  5.31508610e-01  3.40206980e-01\n",
      "  2.18661064e+00  7.22418401e-01 -1.28843495e+00 -2.62737621e+00\n",
      "  1.41857430e+00  2.98875018e-01  5.01406634e-01]\n"
     ]
    }
   ],
   "source": [
    "#Reshape the above array into shape (27,)\n",
    "reshape = matrix_3D.reshape((27,))\n",
    "\n",
    "print(reshape)\n"
   ]
  },
  {
   "cell_type": "markdown",
   "metadata": {
    "id": "tYL6ectCi5bV"
   },
   "source": [
    "### 4."
   ]
  },
  {
   "cell_type": "markdown",
   "metadata": {
    "id": "yLICkRfGi5bW"
   },
   "source": [
    "Create an array of 20 linearly spaced numbers between 1 and 10."
   ]
  },
  {
   "cell_type": "code",
   "execution_count": 9,
   "metadata": {
    "id": "vpb4QaeFi5bW"
   },
   "outputs": [
    {
     "name": "stdout",
     "output_type": "stream",
     "text": [
      "[ 1.          1.47368421  1.94736842  2.42105263  2.89473684  3.36842105\n",
      "  3.84210526  4.31578947  4.78947368  5.26315789  5.73684211  6.21052632\n",
      "  6.68421053  7.15789474  7.63157895  8.10526316  8.57894737  9.05263158\n",
      "  9.52631579 10.        ]\n"
     ]
    }
   ],
   "source": [
    "# Your answer here.\n",
    "#Create an array of 20 linearly spaced numbers between 1 and 10\n",
    "dense = np.linspace(1, 10, 20)\n",
    "print(dense)\n"
   ]
  },
  {
   "cell_type": "markdown",
   "metadata": {
    "id": "QnTqz8EHi5bW"
   },
   "source": [
    "### 5."
   ]
  },
  {
   "cell_type": "markdown",
   "metadata": {
    "id": "E-KXqY45i5bW"
   },
   "source": [
    "Run the following code to create an array of shape 4 x 4 and then use indexing to produce the outputs shown below."
   ]
  },
  {
   "cell_type": "code",
   "execution_count": 10,
   "metadata": {
    "id": "XSF7wfrni5bX"
   },
   "outputs": [
    {
     "name": "stdout",
     "output_type": "stream",
     "text": [
      "[[ 1  2  3  4  5]\n",
      " [ 6  7  8  9 10]\n",
      " [11 12 13 14 15]\n",
      " [16 17 18 19 20]\n",
      " [21 22 23 24 25]]\n"
     ]
    }
   ],
   "source": [
    "import numpy as np\n",
    "a = np.arange(1, 26).reshape(5, -1)\n",
    "print(a)"
   ]
  },
  {
   "cell_type": "markdown",
   "metadata": {
    "id": "p3sq1kMpi5bX"
   },
   "source": [
    "```python\n",
    "20\n",
    "```"
   ]
  },
  {
   "cell_type": "code",
   "execution_count": 11,
   "metadata": {
    "id": "-WGksemGi5bX"
   },
   "outputs": [
    {
     "name": "stdout",
     "output_type": "stream",
     "text": [
      "[[ 9 10]\n",
      " [14 15]\n",
      " [19 20]\n",
      " [24 25]]\n"
     ]
    }
   ],
   "source": [
    "# Your answer here.\n",
    "print(a[1:5, 3:5])"
   ]
  },
  {
   "cell_type": "markdown",
   "metadata": {
    "id": "8eqKOfURi5bX"
   },
   "source": [
    "```python\n",
    "array([[ 9, 10],\n",
    "       [14, 15],\n",
    "       [19, 20],\n",
    "       [24, 25]])\n",
    "```"
   ]
  },
  {
   "cell_type": "code",
   "execution_count": 12,
   "metadata": {
    "id": "mHP-cxtpi5bX"
   },
   "outputs": [
    {
     "name": "stdout",
     "output_type": "stream",
     "text": [
      "[[ 6  7  8  9 10]]\n"
     ]
    }
   ],
   "source": [
    "# Your answer here.\n",
    "print(a[1:2 ,])"
   ]
  },
  {
   "cell_type": "markdown",
   "metadata": {
    "id": "cjTP6JIai5bY"
   },
   "source": [
    "```python\n",
    "array([ 6,  7,  8,  9, 10])\n",
    "```"
   ]
  },
  {
   "cell_type": "code",
   "execution_count": 13,
   "metadata": {
    "id": "iTV4xBIWi5bY"
   },
   "outputs": [
    {
     "name": "stdout",
     "output_type": "stream",
     "text": [
      "[[ 1  2  3  4  5]\n",
      " [ 6  7  8  9 10]\n",
      " [11 12 13 14 15]\n",
      " [16 17 18 19 20]\n",
      " [21 22 23 24 25]]\n",
      "\n",
      "[[11 12 13 14 15]\n",
      " [16 17 18 19 20]]\n"
     ]
    }
   ],
   "source": [
    "# Your answer here.\n",
    "print(a)\n",
    "print()\n",
    "print(a[2:4 , :])"
   ]
  },
  {
   "cell_type": "markdown",
   "metadata": {
    "id": "eIAD600ii5bY"
   },
   "source": [
    "```python\n",
    "array([[11, 12, 13, 14, 15],\n",
    "       [16, 17, 18, 19, 20]])\n",
    "```"
   ]
  },
  {
   "cell_type": "code",
   "execution_count": 14,
   "metadata": {
    "id": "QkfR4Grti5bY"
   },
   "outputs": [
    {
     "name": "stdout",
     "output_type": "stream",
     "text": [
      "[[ 1  2  3  4  5]\n",
      " [ 6  7  8  9 10]\n",
      " [11 12 13 14 15]\n",
      " [16 17 18 19 20]\n",
      " [21 22 23 24 25]]\n",
      "\n",
      "[[ 8  9]\n",
      " [13 14]]\n"
     ]
    }
   ],
   "source": [
    "# Your answer here.\n",
    "print(a)\n",
    "print()\n",
    "print(a[1:3, 2:4])"
   ]
  },
  {
   "cell_type": "markdown",
   "metadata": {
    "id": "rJncVDyJi5bY"
   },
   "source": [
    "```python\n",
    "array([[ 8,  9],\n",
    "       [13, 14]])\n",
    "```"
   ]
  },
  {
   "cell_type": "markdown",
   "metadata": {
    "id": "XLeaB5SOi5bZ"
   },
   "source": [
    "### 6."
   ]
  },
  {
   "cell_type": "markdown",
   "metadata": {
    "id": "LhEX7cYti5bZ"
   },
   "source": [
    "Calculate the sum of all the numbers in `a`."
   ]
  },
  {
   "cell_type": "code",
   "execution_count": 16,
   "metadata": {
    "id": "La1e4qmXi5bZ"
   },
   "outputs": [
    {
     "name": "stdout",
     "output_type": "stream",
     "text": [
      "[[ 1  2  3  4  5]\n",
      " [ 6  7  8  9 10]\n",
      " [11 12 13 14 15]\n",
      " [16 17 18 19 20]\n",
      " [21 22 23 24 25]]\n",
      "\n",
      "The sum of all the numbers in the array is 325\n"
     ]
    }
   ],
   "source": [
    "# Your answer here.\n",
    "print(a)\n",
    "print()\n",
    "a_add = a.sum()\n",
    "print('The sum of all the numbers in the array is', a_add)"
   ]
  },
  {
   "cell_type": "markdown",
   "metadata": {
    "id": "2fed1u_mi5bZ"
   },
   "source": [
    "### 7."
   ]
  },
  {
   "cell_type": "markdown",
   "metadata": {
    "id": "S0fH33OCi5bZ"
   },
   "source": [
    "Calculate the sum of each row in `a`."
   ]
  },
  {
   "cell_type": "code",
   "execution_count": 17,
   "metadata": {
    "id": "__qI1s7Yi5bZ"
   },
   "outputs": [
    {
     "name": "stdout",
     "output_type": "stream",
     "text": [
      "[[ 1  2  3  4  5]\n",
      " [ 6  7  8  9 10]\n",
      " [11 12 13 14 15]\n",
      " [16 17 18 19 20]\n",
      " [21 22 23 24 25]]\n",
      "\n",
      "The sum of each row is  [ 15  40  65  90 115]\n"
     ]
    }
   ],
   "source": [
    "# Your answer here.\n",
    "print(a)\n",
    "print()\n",
    "a_sumrow = a.sum(axis= 1)\n",
    "print('The sum of each row is ', a_sumrow)\n",
    "\n"
   ]
  },
  {
   "cell_type": "markdown",
   "metadata": {
    "id": "yK1hxaS7i5bZ"
   },
   "source": [
    "### 8."
   ]
  },
  {
   "cell_type": "markdown",
   "metadata": {
    "id": "kXw13Ll6i5bZ"
   },
   "source": [
    "Extract all values of `a` greater than the mean of `a` (hint: use a boolean mask)."
   ]
  },
  {
   "cell_type": "code",
   "execution_count": 18,
   "metadata": {
    "id": "-LRVVp27i5bZ"
   },
   "outputs": [
    {
     "name": "stdout",
     "output_type": "stream",
     "text": [
      "[[ 1  2  3  4  5]\n",
      " [ 6  7  8  9 10]\n",
      " [11 12 13 14 15]\n",
      " [16 17 18 19 20]\n",
      " [21 22 23 24 25]]\n",
      "\n",
      "The mean value of a is: 13.0\n",
      "The values are:  [[False False False False False]\n",
      " [False False False False False]\n",
      " [False False False  True  True]\n",
      " [ True  True  True  True  True]\n",
      " [ True  True  True  True  True]]\n",
      "\n",
      "The extracted masked values greater than the mean value are:  [14 15 16 17 18 19 20 21 22 23 24 25]\n"
     ]
    }
   ],
   "source": [
    "# Your answer here.\n",
    "print(a)\n",
    "print()\n",
    "a_mean = a.mean()\n",
    "print('The mean value of a is:', a_mean)\n",
    "\n",
    "mask = a > a_mean\n",
    "print('The values are: ', mask)\n",
    "print()\n",
    "\n",
    "extract = a[mask]\n",
    "print('The extracted masked values greater than the mean value are: ', extract )"
   ]
  },
  {
   "cell_type": "markdown",
   "metadata": {
    "id": "3_Sgk-Rki5bZ"
   },
   "source": [
    "### 9."
   ]
  },
  {
   "cell_type": "markdown",
   "metadata": {
    "id": "BOgmodFGi5bZ"
   },
   "source": [
    "Find the location of the minimum value in the following array `b`:"
   ]
  },
  {
   "cell_type": "code",
   "execution_count": 19,
   "metadata": {
    "id": "qc40T2nIi5ba",
    "outputId": "94fe4df3-30d8-4279-d009-046793c8e63e"
   },
   "outputs": [
    {
     "name": "stdout",
     "output_type": "stream",
     "text": [
      "[-1.0856306   0.99734545  0.2829785  -1.50629471 -0.57860025  1.65143654\n",
      " -2.42667924 -0.42891263  1.26593626 -0.8667404 ]\n",
      "\n",
      "let us our set index\n",
      "\n",
      "our indexed value are:  [[ 0.         -1.0856306 ]\n",
      " [ 1.          0.99734545]\n",
      " [ 2.          0.2829785 ]\n",
      " [ 3.         -1.50629471]\n",
      " [ 4.         -0.57860025]\n",
      " [ 5.          1.65143654]\n",
      " [ 6.         -2.42667924]\n",
      " [ 7.         -0.42891263]\n",
      " [ 8.          1.26593626]\n",
      " [ 9.         -0.8667404 ]]\n"
     ]
    }
   ],
   "source": [
    "np.random.seed(123)\n",
    "b = np.random.randn(10)\n",
    "print(b)\n",
    "print()\n",
    "print('let us our set index')\n",
    "print()\n",
    "set_index = np.arange(10)\n",
    "\n",
    "b_index = np.column_stack((set_index, b))\n",
    "\n",
    "print('our indexed value are: ', b_index)\n"
   ]
  },
  {
   "cell_type": "code",
   "execution_count": 20,
   "metadata": {
    "id": "uYUWlruEi5ba"
   },
   "outputs": [
    {
     "name": "stdout",
     "output_type": "stream",
     "text": [
      "The minimum value is: -2.426679243393074\n",
      "\n",
      "The location of the minimum value is the 6 location\n",
      "convert to 2D\n",
      "The location of the minmum value in 1D is  (6,)\n"
     ]
    }
   ],
   "source": [
    "# Your answer here.\n",
    "min_value = b_index.min()\n",
    "print('The minimum value is:', min_value)\n",
    "print()\n",
    "min_index = b.argmin()\n",
    "print('The location of the minimum value is the', min_index, 'location')\n",
    "print('convert to 2D')\n",
    "loc_2D = np.unravel_index(min_index, b.shape)\n",
    "print('The location of the minmum value in 1D is ', loc_2D)"
   ]
  },
  {
   "cell_type": "markdown",
   "metadata": {
    "id": "jScMHHQKi5ba"
   },
   "source": [
    "### 10."
   ]
  },
  {
   "cell_type": "markdown",
   "metadata": {
    "id": "1wuSnMvki5ba"
   },
   "source": [
    "Find the location of the maximum value in the following 2D array `c` (hint: there are many ways to do this question, but a quick search on stackoverflow.com will typically help you find the optimum solution for a problem, for example see [post](https://stackoverflow.com/questions/3584243/get-the-position-of-the-biggest-item-in-a-multi-dimensional-numpy-array)):"
   ]
  },
  {
   "cell_type": "code",
   "execution_count": 21,
   "metadata": {
    "id": "2vUghTQri5ba",
    "outputId": "e5c102e5-57c4-4439-e8b6-96bce712f647"
   },
   "outputs": [
    {
     "name": "stdout",
     "output_type": "stream",
     "text": [
      "[[-1.0856306   0.99734545]\n",
      " [ 0.2829785  -1.50629471]\n",
      " [-0.57860025  1.65143654]]\n",
      "\n"
     ]
    }
   ],
   "source": [
    "np.random.seed(123)\n",
    "c = np.random.randn(3, 2)\n",
    "print(c)\n",
    "print()"
   ]
  },
  {
   "cell_type": "code",
   "execution_count": 22,
   "metadata": {
    "id": "LN1keMf1i5bb"
   },
   "outputs": [
    {
     "name": "stdout",
     "output_type": "stream",
     "text": [
      "The location is  (2, 1)\n"
     ]
    }
   ],
   "source": [
    "# Your answer here.\n",
    "max_value = c.argmax()\n",
    "max_loc = np.unravel_index(max_value, c.shape)\n",
    "print('The location is ', max_loc)\n"
   ]
  },
  {
   "cell_type": "markdown",
   "metadata": {
    "id": "jwrTRMkfi5bb"
   },
   "source": [
    "<hr>\n",
    "<hr>\n",
    "<hr>"
   ]
  }
 ],
 "metadata": {
  "colab": {
   "provenance": []
  },
  "kernelspec": {
   "display_name": "Python 3 (ipykernel)",
   "language": "python",
   "name": "python3"
  },
  "language_info": {
   "codemirror_mode": {
    "name": "ipython",
    "version": 3
   },
   "file_extension": ".py",
   "mimetype": "text/x-python",
   "name": "python",
   "nbconvert_exporter": "python",
   "pygments_lexer": "ipython3",
   "version": "3.10.6"
  }
 },
 "nbformat": 4,
 "nbformat_minor": 1
}
